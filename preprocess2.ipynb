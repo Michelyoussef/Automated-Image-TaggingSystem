{
 "cells": [
  {
   "cell_type": "code",
   "execution_count": 1,
   "id": "692df07b-c54c-46bb-9a24-4989026d4085",
   "metadata": {},
   "outputs": [],
   "source": [
    "import os\n",
    "import boto3\n",
    "import pandas as pd\n",
    "import json\n",
    "from PIL import Image\n",
    "import io\n",
    "from tqdm import tqdm\n",
    "import torch\n",
    "from torch.utils.data import Dataset, DataLoader"
   ]
  },
  {
   "cell_type": "code",
   "execution_count": 2,
   "id": "7c5c0b13-6bd7-490c-8521-8eceb273ce94",
   "metadata": {},
   "outputs": [],
   "source": [
    "s3 = boto3.client('s3')\n",
    "bucket_name = 'sagemaker-eu-north-1-495599732227'"
   ]
  },
  {
   "cell_type": "code",
   "execution_count": 3,
   "id": "caa882b3-0af8-4429-a172-035a8bcb44dc",
   "metadata": {},
   "outputs": [],
   "source": [
    "class COCODataset(Dataset):\n",
    "    def __init__(self, df, image_dir, transform=None):\n",
    "        self.df = df\n",
    "        self.image_dir = image_dir\n",
    "        self.transform = transform\n",
    "\n",
    "    def __len__(self):\n",
    "        return len(self.df)\n",
    "\n",
    "    def __getitem__(self, idx):\n",
    "        img_name = self.df.iloc[idx]['file_name']\n",
    "        img_path = os.path.join(self.image_dir, img_name)\n",
    "\n",
    "        # Download image from S3\n",
    "        img_data = download_file(bucket_name, img_path)\n",
    "        image = Image.open(io.BytesIO(img_data))\n",
    "\n",
    "        # Convert to RGB \n",
    "        if image.mode != 'RGB':\n",
    "            image = image.convert('RGB')\n",
    "\n",
    "        tags = torch.tensor(self.df.iloc[idx]['tags'])\n",
    "        if self.transform:\n",
    "            image = self.transform(image)\n",
    "        return image, tags\n"
   ]
  },
  {
   "cell_type": "code",
   "execution_count": 4,
   "id": "ab2776d5-4d37-4476-be03-5f42580c6e68",
   "metadata": {},
   "outputs": [],
   "source": [
    "def download_file(bucket, key):\n",
    "    response = s3.get_object(Bucket=bucket, Key=key)\n",
    "    return response['Body'].read()"
   ]
  },
  {
   "cell_type": "code",
   "execution_count": 5,
   "id": "d8ddf5ab-3e2c-4d93-9fd2-9d26c20ac13d",
   "metadata": {},
   "outputs": [],
   "source": [
    "def preprocess_images(bucket, image_prefix, annotation_key):\n",
    "    \n",
    "    annotations = json.loads(download_file(bucket, annotation_key))\n",
    "\n",
    "    image_data = []\n",
    "\n",
    "    for img in tqdm(annotations['images']):\n",
    "       \n",
    "        img_data = download_file(bucket, f\"{image_prefix}/{img['file_name']}\")\n",
    "        pil_img = Image.open(io.BytesIO(img_data))\n",
    "\n",
    "        \n",
    "        pil_img = pil_img.resize((224, 224))\n",
    "\n",
    "        \n",
    "        pil_img = pil_img.convert('RGB')  \n",
    "\n",
    "\n",
    "        \n",
    "        buffer = io.BytesIO()\n",
    "        pil_img.save(buffer, format='JPEG')\n",
    "        s3.put_object(Bucket=bucket, Key=f\"preprocessed2/images/{img['file_name']}\", Body=buffer.getvalue())\n",
    "\n",
    "       \n",
    "        tags = [0] * 80\n",
    "        for ann in annotations['annotations']:\n",
    "            if ann['image_id'] == img['id']:\n",
    "                category_id = ann['category_id'] - 1\n",
    "                if 0 <= category_id < 80:  \n",
    "                    tags[category_id] = 1\n",
    "                else:\n",
    "                    print(f\"Invalid category_id: {category_id}\")  \n",
    "\n",
    "        image_data.append({\n",
    "            'image_id': img['id'],\n",
    "            'file_name': img['file_name'],\n",
    "            'tags': tags\n",
    "        })\n",
    "\n",
    "    \n",
    "    df = pd.DataFrame(image_data)\n",
    "    csv_buffer = io.StringIO()\n",
    "    df.to_csv(csv_buffer, index=False)\n",
    "    s3.put_object(Bucket=bucket, Key='preprocessed2/image_data.csv', Body=csv_buffer.getvalue())\n",
    "\n",
    "  \n",
    "    dataset = COCODataset(df, 'preprocessed2')\n",
    "    torch.save(dataset, 'coco_dataset.pth')\n",
    "    s3.upload_file('coco_dataset.pth', bucket, 'preprocessed2/coco_dataset.pth')\n",
    "\n"
   ]
  },
  {
   "cell_type": "code",
   "execution_count": 6,
   "id": "88a54396-522c-4a3c-a560-8826bfc8f573",
   "metadata": {},
   "outputs": [
    {
     "name": "stderr",
     "output_type": "stream",
     "text": [
      "  0%|          | 2/2000 [00:00<03:42,  9.00it/s]"
     ]
    },
    {
     "name": "stdout",
     "output_type": "stream",
     "text": [
      "Invalid category_id: 80\n",
      "Invalid category_id: 81\n",
      "Invalid category_id: 80\n"
     ]
    },
    {
     "name": "stderr",
     "output_type": "stream",
     "text": [
      "  0%|          | 7/2000 [00:00<04:05,  8.12it/s]"
     ]
    },
    {
     "name": "stdout",
     "output_type": "stream",
     "text": [
      "Invalid category_id: 83\n",
      "Invalid category_id: 83\n",
      "Invalid category_id: 83\n",
      "Invalid category_id: 83\n",
      "Invalid category_id: 83\n",
      "Invalid category_id: 83\n",
      "Invalid category_id: 83\n",
      "Invalid category_id: 83\n",
      "Invalid category_id: 83\n",
      "Invalid category_id: 83\n",
      "Invalid category_id: 83\n",
      "Invalid category_id: 83\n",
      "Invalid category_id: 83\n",
      "Invalid category_id: 83\n",
      "Invalid category_id: 83\n",
      "Invalid category_id: 83\n",
      "Invalid category_id: 83\n",
      "Invalid category_id: 83\n",
      "Invalid category_id: 83\n",
      "Invalid category_id: 83\n",
      "Invalid category_id: 83\n",
      "Invalid category_id: 83\n",
      "Invalid category_id: 83\n"
     ]
    },
    {
     "name": "stderr",
     "output_type": "stream",
     "text": [
      "  2%|▏         | 48/2000 [00:06<04:00,  8.13it/s]"
     ]
    },
    {
     "name": "stdout",
     "output_type": "stream",
     "text": [
      "Invalid category_id: 89\n"
     ]
    },
    {
     "name": "stderr",
     "output_type": "stream",
     "text": [
      "  2%|▎         | 50/2000 [00:06<04:27,  7.28it/s]"
     ]
    },
    {
     "name": "stdout",
     "output_type": "stream",
     "text": [
      "Invalid category_id: 83\n",
      "Invalid category_id: 83\n",
      "Invalid category_id: 83\n",
      "Invalid category_id: 83\n",
      "Invalid category_id: 83\n",
      "Invalid category_id: 83\n",
      "Invalid category_id: 83\n",
      "Invalid category_id: 83\n",
      "Invalid category_id: 83\n",
      "Invalid category_id: 83\n",
      "Invalid category_id: 83\n",
      "Invalid category_id: 85\n",
      "Invalid category_id: 83\n",
      "Invalid category_id: 83\n",
      "Invalid category_id: 85\n",
      "Invalid category_id: 83\n"
     ]
    },
    {
     "name": "stderr",
     "output_type": "stream",
     "text": [
      "  3%|▎         | 55/2000 [00:06<03:48,  8.49it/s]"
     ]
    },
    {
     "name": "stdout",
     "output_type": "stream",
     "text": [
      "Invalid category_id: 85\n",
      "Invalid category_id: 85\n",
      "Invalid category_id: 85\n"
     ]
    },
    {
     "name": "stderr",
     "output_type": "stream",
     "text": [
      "  3%|▎         | 57/2000 [00:07<03:50,  8.43it/s]"
     ]
    },
    {
     "name": "stdout",
     "output_type": "stream",
     "text": [
      "Invalid category_id: 80\n",
      "Invalid category_id: 89\n"
     ]
    },
    {
     "name": "stderr",
     "output_type": "stream",
     "text": [
      "  3%|▎         | 59/2000 [00:07<03:57,  8.18it/s]"
     ]
    },
    {
     "name": "stdout",
     "output_type": "stream",
     "text": [
      "Invalid category_id: 80\n",
      "Invalid category_id: 80\n"
     ]
    },
    {
     "name": "stderr",
     "output_type": "stream",
     "text": [
      "  5%|▍         | 98/2000 [00:12<04:12,  7.52it/s]"
     ]
    },
    {
     "name": "stdout",
     "output_type": "stream",
     "text": [
      "Invalid category_id: 84\n"
     ]
    },
    {
     "name": "stderr",
     "output_type": "stream",
     "text": [
      "  5%|▌         | 100/2000 [00:12<04:40,  6.78it/s]"
     ]
    },
    {
     "name": "stdout",
     "output_type": "stream",
     "text": [
      "Invalid category_id: 85\n"
     ]
    },
    {
     "name": "stderr",
     "output_type": "stream",
     "text": [
      "  5%|▌         | 107/2000 [00:13<03:55,  8.02it/s]"
     ]
    },
    {
     "name": "stdout",
     "output_type": "stream",
     "text": [
      "Invalid category_id: 83\n"
     ]
    },
    {
     "name": "stderr",
     "output_type": "stream",
     "text": [
      "  6%|▋         | 125/2000 [00:15<03:42,  8.44it/s]"
     ]
    },
    {
     "name": "stdout",
     "output_type": "stream",
     "text": [
      "Invalid category_id: 89\n",
      "Invalid category_id: 85\n"
     ]
    },
    {
     "name": "stderr",
     "output_type": "stream",
     "text": [
      "  6%|▋         | 130/2000 [00:16<04:16,  7.30it/s]"
     ]
    },
    {
     "name": "stdout",
     "output_type": "stream",
     "text": [
      "Invalid category_id: 83\n"
     ]
    },
    {
     "name": "stderr",
     "output_type": "stream",
     "text": [
      "  7%|▋         | 135/2000 [00:16<03:38,  8.53it/s]"
     ]
    },
    {
     "name": "stdout",
     "output_type": "stream",
     "text": [
      "Invalid category_id: 83\n"
     ]
    },
    {
     "name": "stderr",
     "output_type": "stream",
     "text": [
      "  7%|▋         | 141/2000 [00:17<03:14,  9.54it/s]"
     ]
    },
    {
     "name": "stdout",
     "output_type": "stream",
     "text": [
      "Invalid category_id: 85\n"
     ]
    },
    {
     "name": "stderr",
     "output_type": "stream",
     "text": [
      "  7%|▋         | 147/2000 [00:18<03:47,  8.13it/s]"
     ]
    },
    {
     "name": "stdout",
     "output_type": "stream",
     "text": [
      "Invalid category_id: 84\n",
      "Invalid category_id: 84\n",
      "Invalid category_id: 81\n"
     ]
    },
    {
     "name": "stderr",
     "output_type": "stream",
     "text": [
      "  7%|▋         | 149/2000 [00:18<03:54,  7.91it/s]"
     ]
    },
    {
     "name": "stdout",
     "output_type": "stream",
     "text": [
      "Invalid category_id: 81\n",
      "Invalid category_id: 84\n",
      "Invalid category_id: 80\n",
      "Invalid category_id: 85\n"
     ]
    },
    {
     "name": "stderr",
     "output_type": "stream",
     "text": [
      "  8%|▊         | 153/2000 [00:19<03:32,  8.71it/s]"
     ]
    },
    {
     "name": "stdout",
     "output_type": "stream",
     "text": [
      "Invalid category_id: 81\n",
      "Invalid category_id: 80\n",
      "Invalid category_id: 80\n"
     ]
    },
    {
     "name": "stderr",
     "output_type": "stream",
     "text": [
      "  8%|▊         | 156/2000 [00:19<03:16,  9.37it/s]"
     ]
    },
    {
     "name": "stdout",
     "output_type": "stream",
     "text": [
      "Invalid category_id: 80\n"
     ]
    },
    {
     "name": "stderr",
     "output_type": "stream",
     "text": [
      "  8%|▊         | 160/2000 [00:19<03:46,  8.13it/s]"
     ]
    },
    {
     "name": "stdout",
     "output_type": "stream",
     "text": [
      "Invalid category_id: 83\n",
      "Invalid category_id: 83\n",
      "Invalid category_id: 83\n",
      "Invalid category_id: 83\n",
      "Invalid category_id: 83\n",
      "Invalid category_id: 83\n",
      "Invalid category_id: 83\n",
      "Invalid category_id: 83\n",
      "Invalid category_id: 83\n",
      "Invalid category_id: 83\n",
      "Invalid category_id: 83\n",
      "Invalid category_id: 83\n",
      "Invalid category_id: 83\n"
     ]
    },
    {
     "name": "stderr",
     "output_type": "stream",
     "text": [
      "  8%|▊         | 166/2000 [00:20<03:49,  7.98it/s]"
     ]
    },
    {
     "name": "stdout",
     "output_type": "stream",
     "text": [
      "Invalid category_id: 83\n",
      "Invalid category_id: 83\n"
     ]
    },
    {
     "name": "stderr",
     "output_type": "stream",
     "text": [
      " 10%|▉         | 196/2000 [00:24<03:43,  8.07it/s]"
     ]
    },
    {
     "name": "stdout",
     "output_type": "stream",
     "text": [
      "Invalid category_id: 87\n",
      "Invalid category_id: 85\n",
      "Invalid category_id: 85\n"
     ]
    },
    {
     "name": "stderr",
     "output_type": "stream",
     "text": [
      " 10%|▉         | 199/2000 [00:24<03:26,  8.71it/s]"
     ]
    },
    {
     "name": "stdout",
     "output_type": "stream",
     "text": [
      "Invalid category_id: 81\n",
      "Invalid category_id: 80\n"
     ]
    },
    {
     "name": "stderr",
     "output_type": "stream",
     "text": [
      " 12%|█▏        | 237/2000 [00:29<03:35,  8.20it/s]"
     ]
    },
    {
     "name": "stdout",
     "output_type": "stream",
     "text": [
      "Invalid category_id: 83\n",
      "Invalid category_id: 83\n",
      "Invalid category_id: 83\n",
      "Invalid category_id: 83\n",
      "Invalid category_id: 83\n",
      "Invalid category_id: 83\n",
      "Invalid category_id: 83\n",
      "Invalid category_id: 83\n",
      "Invalid category_id: 83\n",
      "Invalid category_id: 83\n",
      "Invalid category_id: 83\n",
      "Invalid category_id: 83\n",
      "Invalid category_id: 83\n",
      "Invalid category_id: 83\n",
      "Invalid category_id: 84\n",
      "Invalid category_id: 85\n",
      "Invalid category_id: 85\n",
      "Invalid category_id: 85\n",
      "Invalid category_id: 85\n"
     ]
    },
    {
     "name": "stderr",
     "output_type": "stream",
     "text": [
      " 12%|█▏        | 240/2000 [00:29<03:23,  8.64it/s]"
     ]
    },
    {
     "name": "stdout",
     "output_type": "stream",
     "text": [
      "Invalid category_id: 89\n"
     ]
    },
    {
     "name": "stderr",
     "output_type": "stream",
     "text": [
      " 12%|█▏        | 245/2000 [00:30<03:25,  8.55it/s]"
     ]
    },
    {
     "name": "stdout",
     "output_type": "stream",
     "text": [
      "Invalid category_id: 84\n",
      "Invalid category_id: 84\n"
     ]
    },
    {
     "name": "stderr",
     "output_type": "stream",
     "text": [
      " 12%|█▏        | 248/2000 [00:30<03:30,  8.33it/s]"
     ]
    },
    {
     "name": "stdout",
     "output_type": "stream",
     "text": [
      "Invalid category_id: 87\n"
     ]
    },
    {
     "name": "stderr",
     "output_type": "stream",
     "text": [
      " 12%|█▎        | 250/2000 [00:30<03:58,  7.34it/s]"
     ]
    },
    {
     "name": "stdout",
     "output_type": "stream",
     "text": [
      "Invalid category_id: 80\n",
      "Invalid category_id: 85\n",
      "Invalid category_id: 80\n"
     ]
    },
    {
     "name": "stderr",
     "output_type": "stream",
     "text": [
      " 13%|█▎        | 252/2000 [00:31<04:27,  6.53it/s]"
     ]
    },
    {
     "name": "stdout",
     "output_type": "stream",
     "text": [
      "Invalid category_id: 80\n",
      "Invalid category_id: 80\n",
      "Invalid category_id: 85\n"
     ]
    },
    {
     "name": "stderr",
     "output_type": "stream",
     "text": [
      " 13%|█▎        | 257/2000 [00:31<04:06,  7.07it/s]"
     ]
    },
    {
     "name": "stdout",
     "output_type": "stream",
     "text": [
      "Invalid category_id: 85\n"
     ]
    },
    {
     "name": "stderr",
     "output_type": "stream",
     "text": [
      " 13%|█▎        | 264/2000 [00:32<03:43,  7.78it/s]"
     ]
    },
    {
     "name": "stdout",
     "output_type": "stream",
     "text": [
      "Invalid category_id: 80\n"
     ]
    },
    {
     "name": "stderr",
     "output_type": "stream",
     "text": [
      " 14%|█▍        | 277/2000 [00:34<03:41,  7.77it/s]"
     ]
    },
    {
     "name": "stdout",
     "output_type": "stream",
     "text": [
      "Invalid category_id: 87\n"
     ]
    },
    {
     "name": "stderr",
     "output_type": "stream",
     "text": [
      " 14%|█▍        | 284/2000 [00:35<03:26,  8.31it/s]"
     ]
    },
    {
     "name": "stdout",
     "output_type": "stream",
     "text": [
      "Invalid category_id: 89\n",
      "Invalid category_id: 85\n"
     ]
    },
    {
     "name": "stderr",
     "output_type": "stream",
     "text": [
      " 14%|█▍        | 288/2000 [00:35<03:26,  8.29it/s]"
     ]
    },
    {
     "name": "stdout",
     "output_type": "stream",
     "text": [
      "Invalid category_id: 83\n",
      "Invalid category_id: 87\n",
      "Invalid category_id: 87\n"
     ]
    },
    {
     "name": "stderr",
     "output_type": "stream",
     "text": [
      " 15%|█▍        | 293/2000 [00:36<03:45,  7.55it/s]"
     ]
    },
    {
     "name": "stdout",
     "output_type": "stream",
     "text": [
      "Invalid category_id: 84\n"
     ]
    },
    {
     "name": "stderr",
     "output_type": "stream",
     "text": [
      " 15%|█▍        | 295/2000 [00:36<03:49,  7.42it/s]"
     ]
    },
    {
     "name": "stdout",
     "output_type": "stream",
     "text": [
      "Invalid category_id: 87\n",
      "Invalid category_id: 81\n",
      "Invalid category_id: 85\n"
     ]
    },
    {
     "name": "stderr",
     "output_type": "stream",
     "text": [
      " 15%|█▍        | 298/2000 [00:37<03:42,  7.64it/s]"
     ]
    },
    {
     "name": "stdout",
     "output_type": "stream",
     "text": [
      "Invalid category_id: 80\n"
     ]
    },
    {
     "name": "stderr",
     "output_type": "stream",
     "text": [
      " 15%|█▌        | 300/2000 [00:37<03:59,  7.09it/s]"
     ]
    },
    {
     "name": "stdout",
     "output_type": "stream",
     "text": [
      "Invalid category_id: 80\n"
     ]
    },
    {
     "name": "stderr",
     "output_type": "stream",
     "text": [
      " 17%|█▋        | 334/2000 [00:41<03:23,  8.20it/s]"
     ]
    },
    {
     "name": "stdout",
     "output_type": "stream",
     "text": [
      "Invalid category_id: 85\n"
     ]
    },
    {
     "name": "stderr",
     "output_type": "stream",
     "text": [
      " 17%|█▋        | 336/2000 [00:41<03:17,  8.42it/s]"
     ]
    },
    {
     "name": "stdout",
     "output_type": "stream",
     "text": [
      "Invalid category_id: 81\n"
     ]
    },
    {
     "name": "stderr",
     "output_type": "stream",
     "text": [
      " 17%|█▋        | 339/2000 [00:42<03:27,  8.02it/s]"
     ]
    },
    {
     "name": "stdout",
     "output_type": "stream",
     "text": [
      "Invalid category_id: 83\n",
      "Invalid category_id: 83\n"
     ]
    },
    {
     "name": "stderr",
     "output_type": "stream",
     "text": [
      " 17%|█▋        | 341/2000 [00:42<03:14,  8.54it/s]"
     ]
    },
    {
     "name": "stdout",
     "output_type": "stream",
     "text": [
      "Invalid category_id: 83\n",
      "Invalid category_id: 83\n",
      "Invalid category_id: 83\n",
      "Invalid category_id: 85\n",
      "Invalid category_id: 85\n",
      "Invalid category_id: 83\n",
      "Invalid category_id: 83\n",
      "Invalid category_id: 83\n",
      "Invalid category_id: 83\n",
      "Invalid category_id: 83\n",
      "Invalid category_id: 83\n",
      "Invalid category_id: 83\n",
      "Invalid category_id: 83\n",
      "Invalid category_id: 83\n",
      "Invalid category_id: 84\n",
      "Invalid category_id: 83\n",
      "Invalid category_id: 83\n"
     ]
    },
    {
     "name": "stderr",
     "output_type": "stream",
     "text": [
      " 17%|█▋        | 345/2000 [00:42<03:17,  8.38it/s]"
     ]
    },
    {
     "name": "stdout",
     "output_type": "stream",
     "text": [
      "Invalid category_id: 88\n",
      "Invalid category_id: 84\n"
     ]
    },
    {
     "name": "stderr",
     "output_type": "stream",
     "text": [
      " 17%|█▋        | 349/2000 [00:43<02:58,  9.26it/s]"
     ]
    },
    {
     "name": "stdout",
     "output_type": "stream",
     "text": [
      "Invalid category_id: 84\n",
      "Invalid category_id: 83\n",
      "Invalid category_id: 87\n",
      "Invalid category_id: 87\n"
     ]
    },
    {
     "name": "stderr",
     "output_type": "stream",
     "text": [
      " 18%|█▊        | 351/2000 [00:43<03:09,  8.68it/s]"
     ]
    },
    {
     "name": "stdout",
     "output_type": "stream",
     "text": [
      "Invalid category_id: 89\n",
      "Invalid category_id: 89\n",
      "Invalid category_id: 80\n",
      "Invalid category_id: 88\n",
      "Invalid category_id: 88\n",
      "Invalid category_id: 88\n"
     ]
    },
    {
     "name": "stderr",
     "output_type": "stream",
     "text": [
      " 19%|█▉        | 385/2000 [00:47<03:34,  7.55it/s]"
     ]
    },
    {
     "name": "stdout",
     "output_type": "stream",
     "text": [
      "Invalid category_id: 80\n",
      "Invalid category_id: 80\n"
     ]
    },
    {
     "name": "stderr",
     "output_type": "stream",
     "text": [
      " 19%|█▉        | 388/2000 [00:48<03:24,  7.90it/s]"
     ]
    },
    {
     "name": "stdout",
     "output_type": "stream",
     "text": [
      "Invalid category_id: 83\n",
      "Invalid category_id: 83\n",
      "Invalid category_id: 83\n",
      "Invalid category_id: 83\n",
      "Invalid category_id: 83\n",
      "Invalid category_id: 83\n",
      "Invalid category_id: 87\n",
      "Invalid category_id: 83\n",
      "Invalid category_id: 83\n",
      "Invalid category_id: 83\n",
      "Invalid category_id: 83\n",
      "Invalid category_id: 83\n",
      "Invalid category_id: 83\n",
      "Invalid category_id: 83\n",
      "Invalid category_id: 83\n"
     ]
    },
    {
     "name": "stderr",
     "output_type": "stream",
     "text": [
      " 20%|█▉        | 391/2000 [00:48<03:40,  7.28it/s]"
     ]
    },
    {
     "name": "stdout",
     "output_type": "stream",
     "text": [
      "Invalid category_id: 83\n",
      "Invalid category_id: 83\n",
      "Invalid category_id: 83\n"
     ]
    },
    {
     "name": "stderr",
     "output_type": "stream",
     "text": [
      " 20%|█▉        | 393/2000 [00:48<03:19,  8.06it/s]"
     ]
    },
    {
     "name": "stdout",
     "output_type": "stream",
     "text": [
      "Invalid category_id: 85\n"
     ]
    },
    {
     "name": "stderr",
     "output_type": "stream",
     "text": [
      " 20%|█▉        | 399/2000 [00:49<03:03,  8.72it/s]"
     ]
    },
    {
     "name": "stdout",
     "output_type": "stream",
     "text": [
      "Invalid category_id: 83\n"
     ]
    },
    {
     "name": "stderr",
     "output_type": "stream",
     "text": [
      " 20%|██        | 401/2000 [00:50<03:43,  7.15it/s]"
     ]
    },
    {
     "name": "stdout",
     "output_type": "stream",
     "text": [
      "Invalid category_id: 86\n",
      "Invalid category_id: 83\n"
     ]
    },
    {
     "name": "stderr",
     "output_type": "stream",
     "text": [
      " 20%|██        | 403/2000 [00:50<03:52,  6.88it/s]"
     ]
    },
    {
     "name": "stdout",
     "output_type": "stream",
     "text": [
      "Invalid category_id: 87\n",
      "Invalid category_id: 87\n",
      "Invalid category_id: 84\n",
      "Invalid category_id: 84\n"
     ]
    },
    {
     "name": "stderr",
     "output_type": "stream",
     "text": [
      " 20%|██        | 406/2000 [00:50<03:17,  8.07it/s]"
     ]
    },
    {
     "name": "stdout",
     "output_type": "stream",
     "text": [
      "Invalid category_id: 81\n",
      "Invalid category_id: 80\n",
      "Invalid category_id: 80\n"
     ]
    },
    {
     "name": "stderr",
     "output_type": "stream",
     "text": [
      " 20%|██        | 408/2000 [00:50<03:37,  7.30it/s]"
     ]
    },
    {
     "name": "stdout",
     "output_type": "stream",
     "text": [
      "Invalid category_id: 80\n",
      "Invalid category_id: 80\n",
      "Invalid category_id: 80\n"
     ]
    },
    {
     "name": "stderr",
     "output_type": "stream",
     "text": [
      " 22%|██▏       | 436/2000 [00:54<03:17,  7.94it/s]"
     ]
    },
    {
     "name": "stdout",
     "output_type": "stream",
     "text": [
      "Invalid category_id: 83\n",
      "Invalid category_id: 83\n"
     ]
    },
    {
     "name": "stderr",
     "output_type": "stream",
     "text": [
      " 22%|██▏       | 441/2000 [00:55<03:25,  7.60it/s]"
     ]
    },
    {
     "name": "stdout",
     "output_type": "stream",
     "text": [
      "Invalid category_id: 84\n",
      "Invalid category_id: 84\n",
      "Invalid category_id: 84\n"
     ]
    },
    {
     "name": "stderr",
     "output_type": "stream",
     "text": [
      " 22%|██▏       | 445/2000 [00:55<03:24,  7.62it/s]"
     ]
    },
    {
     "name": "stdout",
     "output_type": "stream",
     "text": [
      "Invalid category_id: 81\n",
      "Invalid category_id: 84\n"
     ]
    },
    {
     "name": "stderr",
     "output_type": "stream",
     "text": [
      " 23%|██▎       | 467/2000 [00:58<02:59,  8.56it/s]"
     ]
    },
    {
     "name": "stdout",
     "output_type": "stream",
     "text": [
      "Invalid category_id: 87\n"
     ]
    },
    {
     "name": "stderr",
     "output_type": "stream",
     "text": [
      " 24%|██▎       | 470/2000 [00:58<02:53,  8.80it/s]"
     ]
    },
    {
     "name": "stdout",
     "output_type": "stream",
     "text": [
      "Invalid category_id: 84\n",
      "Invalid category_id: 87\n"
     ]
    },
    {
     "name": "stderr",
     "output_type": "stream",
     "text": [
      " 24%|██▎       | 472/2000 [00:58<02:54,  8.78it/s]"
     ]
    },
    {
     "name": "stdout",
     "output_type": "stream",
     "text": [
      "Invalid category_id: 85\n"
     ]
    },
    {
     "name": "stderr",
     "output_type": "stream",
     "text": [
      " 24%|██▍       | 475/2000 [00:59<03:15,  7.82it/s]"
     ]
    },
    {
     "name": "stdout",
     "output_type": "stream",
     "text": [
      "Invalid category_id: 80\n",
      "Invalid category_id: 87\n",
      "Invalid category_id: 87\n",
      "Invalid category_id: 87\n",
      "Invalid category_id: 87\n",
      "Invalid category_id: 83\n",
      "Invalid category_id: 83\n",
      "Invalid category_id: 83\n",
      "Invalid category_id: 83\n",
      "Invalid category_id: 83\n",
      "Invalid category_id: 83\n",
      "Invalid category_id: 83\n",
      "Invalid category_id: 83\n",
      "Invalid category_id: 83\n",
      "Invalid category_id: 83\n",
      "Invalid category_id: 83\n",
      "Invalid category_id: 87\n",
      "Invalid category_id: 87\n"
     ]
    },
    {
     "name": "stderr",
     "output_type": "stream",
     "text": [
      " 24%|██▍       | 481/2000 [01:00<03:33,  7.13it/s]"
     ]
    },
    {
     "name": "stdout",
     "output_type": "stream",
     "text": [
      "Invalid category_id: 83\n"
     ]
    },
    {
     "name": "stderr",
     "output_type": "stream",
     "text": [
      " 24%|██▍       | 486/2000 [01:00<03:19,  7.61it/s]"
     ]
    },
    {
     "name": "stdout",
     "output_type": "stream",
     "text": [
      "Invalid category_id: 87\n",
      "Invalid category_id: 87\n"
     ]
    },
    {
     "name": "stderr",
     "output_type": "stream",
     "text": [
      " 24%|██▍       | 488/2000 [01:01<03:22,  7.48it/s]"
     ]
    },
    {
     "name": "stdout",
     "output_type": "stream",
     "text": [
      "Invalid category_id: 84\n",
      "Invalid category_id: 84\n"
     ]
    },
    {
     "name": "stderr",
     "output_type": "stream",
     "text": [
      " 26%|██▌       | 515/2000 [01:04<03:08,  7.90it/s]"
     ]
    },
    {
     "name": "stdout",
     "output_type": "stream",
     "text": [
      "Invalid category_id: 83\n",
      "Invalid category_id: 83\n",
      "Invalid category_id: 83\n",
      "Invalid category_id: 83\n",
      "Invalid category_id: 83\n",
      "Invalid category_id: 83\n",
      "Invalid category_id: 83\n",
      "Invalid category_id: 83\n",
      "Invalid category_id: 83\n",
      "Invalid category_id: 83\n",
      "Invalid category_id: 83\n",
      "Invalid category_id: 83\n",
      "Invalid category_id: 83\n",
      "Invalid category_id: 83\n"
     ]
    },
    {
     "name": "stderr",
     "output_type": "stream",
     "text": [
      " 26%|██▌       | 517/2000 [01:04<03:06,  7.96it/s]"
     ]
    },
    {
     "name": "stdout",
     "output_type": "stream",
     "text": [
      "Invalid category_id: 84\n"
     ]
    },
    {
     "name": "stderr",
     "output_type": "stream",
     "text": [
      " 26%|██▌       | 523/2000 [01:05<03:12,  7.69it/s]"
     ]
    },
    {
     "name": "stdout",
     "output_type": "stream",
     "text": [
      "Invalid category_id: 80\n"
     ]
    },
    {
     "name": "stderr",
     "output_type": "stream",
     "text": [
      " 26%|██▋       | 525/2000 [01:05<03:14,  7.56it/s]"
     ]
    },
    {
     "name": "stdout",
     "output_type": "stream",
     "text": [
      "Invalid category_id: 80\n",
      "Invalid category_id: 84\n"
     ]
    },
    {
     "name": "stderr",
     "output_type": "stream",
     "text": [
      " 27%|██▋       | 533/2000 [01:06<02:50,  8.61it/s]"
     ]
    },
    {
     "name": "stdout",
     "output_type": "stream",
     "text": [
      "Invalid category_id: 85\n",
      "Invalid category_id: 85\n",
      "Invalid category_id: 85\n",
      "Invalid category_id: 85\n",
      "Invalid category_id: 85\n",
      "Invalid category_id: 85\n"
     ]
    },
    {
     "name": "stderr",
     "output_type": "stream",
     "text": [
      " 27%|██▋       | 548/2000 [01:08<03:26,  7.03it/s]"
     ]
    },
    {
     "name": "stdout",
     "output_type": "stream",
     "text": [
      "Invalid category_id: 87\n",
      "Invalid category_id: 87\n",
      "Invalid category_id: 87\n"
     ]
    },
    {
     "name": "stderr",
     "output_type": "stream",
     "text": [
      " 28%|██▊       | 558/2000 [01:10<03:10,  7.58it/s]"
     ]
    },
    {
     "name": "stdout",
     "output_type": "stream",
     "text": [
      "Invalid category_id: 89\n",
      "Invalid category_id: 87\n",
      "Invalid category_id: 85\n"
     ]
    },
    {
     "name": "stderr",
     "output_type": "stream",
     "text": [
      " 28%|██▊       | 561/2000 [01:10<02:50,  8.46it/s]"
     ]
    },
    {
     "name": "stdout",
     "output_type": "stream",
     "text": [
      "Invalid category_id: 86\n"
     ]
    },
    {
     "name": "stderr",
     "output_type": "stream",
     "text": [
      " 28%|██▊       | 563/2000 [01:10<02:46,  8.61it/s]"
     ]
    },
    {
     "name": "stdout",
     "output_type": "stream",
     "text": [
      "Invalid category_id: 84\n",
      "Invalid category_id: 83\n",
      "Invalid category_id: 83\n",
      "Invalid category_id: 83\n"
     ]
    },
    {
     "name": "stderr",
     "output_type": "stream",
     "text": [
      " 28%|██▊       | 567/2000 [01:11<02:55,  8.18it/s]"
     ]
    },
    {
     "name": "stdout",
     "output_type": "stream",
     "text": [
      "Invalid category_id: 87\n",
      "Invalid category_id: 87\n",
      "Invalid category_id: 85\n"
     ]
    },
    {
     "name": "stderr",
     "output_type": "stream",
     "text": [
      " 29%|██▊       | 572/2000 [01:11<02:40,  8.88it/s]"
     ]
    },
    {
     "name": "stdout",
     "output_type": "stream",
     "text": [
      "Invalid category_id: 80\n"
     ]
    },
    {
     "name": "stderr",
     "output_type": "stream",
     "text": [
      " 30%|███       | 605/2000 [01:15<02:42,  8.61it/s]"
     ]
    },
    {
     "name": "stdout",
     "output_type": "stream",
     "text": [
      "Invalid category_id: 83\n",
      "Invalid category_id: 83\n"
     ]
    },
    {
     "name": "stderr",
     "output_type": "stream",
     "text": [
      " 30%|███       | 610/2000 [01:16<02:59,  7.75it/s]"
     ]
    },
    {
     "name": "stdout",
     "output_type": "stream",
     "text": [
      "Invalid category_id: 85\n",
      "Invalid category_id: 83\n",
      "Invalid category_id: 83\n",
      "Invalid category_id: 83\n",
      "Invalid category_id: 85\n",
      "Invalid category_id: 85\n",
      "Invalid category_id: 83\n",
      "Invalid category_id: 85\n"
     ]
    },
    {
     "name": "stderr",
     "output_type": "stream",
     "text": [
      " 31%|███       | 612/2000 [01:16<03:00,  7.70it/s]"
     ]
    },
    {
     "name": "stdout",
     "output_type": "stream",
     "text": [
      "Invalid category_id: 87\n",
      "Invalid category_id: 85\n"
     ]
    },
    {
     "name": "stderr",
     "output_type": "stream",
     "text": [
      " 31%|███       | 615/2000 [01:17<03:05,  7.46it/s]"
     ]
    },
    {
     "name": "stdout",
     "output_type": "stream",
     "text": [
      "Invalid category_id: 85\n",
      "Invalid category_id: 83\n",
      "Invalid category_id: 80\n"
     ]
    },
    {
     "name": "stderr",
     "output_type": "stream",
     "text": [
      " 31%|███       | 619/2000 [01:17<02:46,  8.30it/s]"
     ]
    },
    {
     "name": "stdout",
     "output_type": "stream",
     "text": [
      "Invalid category_id: 89\n",
      "Invalid category_id: 80\n",
      "Invalid category_id: 88\n",
      "Invalid category_id: 89\n"
     ]
    },
    {
     "name": "stderr",
     "output_type": "stream",
     "text": [
      " 32%|███▏      | 632/2000 [01:19<02:38,  8.61it/s]"
     ]
    },
    {
     "name": "stdout",
     "output_type": "stream",
     "text": [
      "Invalid category_id: 84\n"
     ]
    },
    {
     "name": "stderr",
     "output_type": "stream",
     "text": [
      " 33%|███▎      | 658/2000 [01:22<03:02,  7.35it/s]"
     ]
    },
    {
     "name": "stdout",
     "output_type": "stream",
     "text": [
      "Invalid category_id: 83\n"
     ]
    },
    {
     "name": "stderr",
     "output_type": "stream",
     "text": [
      " 33%|███▎      | 666/2000 [01:23<03:28,  6.40it/s]"
     ]
    },
    {
     "name": "stdout",
     "output_type": "stream",
     "text": [
      "Invalid category_id: 84\n"
     ]
    },
    {
     "name": "stderr",
     "output_type": "stream",
     "text": [
      " 33%|███▎      | 668/2000 [01:24<03:07,  7.09it/s]"
     ]
    },
    {
     "name": "stdout",
     "output_type": "stream",
     "text": [
      "Invalid category_id: 89\n"
     ]
    },
    {
     "name": "stderr",
     "output_type": "stream",
     "text": [
      " 34%|███▎      | 673/2000 [01:24<02:54,  7.60it/s]"
     ]
    },
    {
     "name": "stdout",
     "output_type": "stream",
     "text": [
      "Invalid category_id: 85\n",
      "Invalid category_id: 81\n"
     ]
    },
    {
     "name": "stderr",
     "output_type": "stream",
     "text": [
      " 35%|███▌      | 704/2000 [01:29<02:54,  7.43it/s]"
     ]
    },
    {
     "name": "stdout",
     "output_type": "stream",
     "text": [
      "Invalid category_id: 84\n"
     ]
    },
    {
     "name": "stderr",
     "output_type": "stream",
     "text": [
      " 36%|███▌      | 714/2000 [01:30<02:48,  7.61it/s]"
     ]
    },
    {
     "name": "stdout",
     "output_type": "stream",
     "text": [
      "Invalid category_id: 87\n"
     ]
    },
    {
     "name": "stderr",
     "output_type": "stream",
     "text": [
      " 36%|███▌      | 721/2000 [01:31<02:41,  7.90it/s]"
     ]
    },
    {
     "name": "stdout",
     "output_type": "stream",
     "text": [
      "Invalid category_id: 84\n"
     ]
    },
    {
     "name": "stderr",
     "output_type": "stream",
     "text": [
      " 36%|███▌      | 723/2000 [01:31<02:35,  8.19it/s]"
     ]
    },
    {
     "name": "stdout",
     "output_type": "stream",
     "text": [
      "Invalid category_id: 81\n",
      "Invalid category_id: 80\n",
      "Invalid category_id: 87\n",
      "Invalid category_id: 80\n",
      "Invalid category_id: 80\n"
     ]
    },
    {
     "name": "stderr",
     "output_type": "stream",
     "text": [
      " 36%|███▋      | 725/2000 [01:31<02:41,  7.91it/s]"
     ]
    },
    {
     "name": "stdout",
     "output_type": "stream",
     "text": [
      "Invalid category_id: 80\n",
      "Invalid category_id: 80\n",
      "Invalid category_id: 80\n"
     ]
    },
    {
     "name": "stderr",
     "output_type": "stream",
     "text": [
      " 36%|███▋      | 728/2000 [01:32<02:36,  8.12it/s]"
     ]
    },
    {
     "name": "stdout",
     "output_type": "stream",
     "text": [
      "Invalid category_id: 80\n",
      "Invalid category_id: 80\n"
     ]
    },
    {
     "name": "stderr",
     "output_type": "stream",
     "text": [
      " 37%|███▋      | 732/2000 [01:32<02:20,  9.03it/s]"
     ]
    },
    {
     "name": "stdout",
     "output_type": "stream",
     "text": [
      "Invalid category_id: 80\n"
     ]
    },
    {
     "name": "stderr",
     "output_type": "stream",
     "text": [
      " 37%|███▋      | 737/2000 [01:33<02:38,  7.95it/s]"
     ]
    },
    {
     "name": "stdout",
     "output_type": "stream",
     "text": [
      "Invalid category_id: 84\n",
      "Invalid category_id: 84\n",
      "Invalid category_id: 86\n"
     ]
    },
    {
     "name": "stderr",
     "output_type": "stream",
     "text": [
      " 37%|███▋      | 742/2000 [01:33<02:14,  9.34it/s]"
     ]
    },
    {
     "name": "stdout",
     "output_type": "stream",
     "text": [
      "Invalid category_id: 83\n",
      "Invalid category_id: 83\n",
      "Invalid category_id: 83\n",
      "Invalid category_id: 83\n",
      "Invalid category_id: 83\n",
      "Invalid category_id: 83\n",
      "Invalid category_id: 86\n",
      "Invalid category_id: 86\n",
      "Invalid category_id: 83\n"
     ]
    },
    {
     "name": "stderr",
     "output_type": "stream",
     "text": [
      " 37%|███▋      | 749/2000 [01:34<02:41,  7.77it/s]"
     ]
    },
    {
     "name": "stdout",
     "output_type": "stream",
     "text": [
      "Invalid category_id: 83\n",
      "Invalid category_id: 83\n"
     ]
    },
    {
     "name": "stderr",
     "output_type": "stream",
     "text": [
      " 38%|███▊      | 761/2000 [01:36<02:48,  7.34it/s]"
     ]
    },
    {
     "name": "stdout",
     "output_type": "stream",
     "text": [
      "Invalid category_id: 84\n"
     ]
    },
    {
     "name": "stderr",
     "output_type": "stream",
     "text": [
      " 38%|███▊      | 763/2000 [01:36<03:02,  6.76it/s]"
     ]
    },
    {
     "name": "stdout",
     "output_type": "stream",
     "text": [
      "Invalid category_id: 89\n",
      "Invalid category_id: 85\n",
      "Invalid category_id: 85\n",
      "Invalid category_id: 85\n"
     ]
    },
    {
     "name": "stderr",
     "output_type": "stream",
     "text": [
      " 38%|███▊      | 764/2000 [01:36<02:58,  6.92it/s]"
     ]
    },
    {
     "name": "stdout",
     "output_type": "stream",
     "text": [
      "Invalid category_id: 85\n"
     ]
    },
    {
     "name": "stderr",
     "output_type": "stream",
     "text": [
      " 38%|███▊      | 768/2000 [01:37<02:51,  7.17it/s]"
     ]
    },
    {
     "name": "stdout",
     "output_type": "stream",
     "text": [
      "Invalid category_id: 85\n"
     ]
    },
    {
     "name": "stderr",
     "output_type": "stream",
     "text": [
      " 38%|███▊      | 770/2000 [01:37<02:29,  8.21it/s]"
     ]
    },
    {
     "name": "stdout",
     "output_type": "stream",
     "text": [
      "Invalid category_id: 81\n",
      "Invalid category_id: 85\n"
     ]
    },
    {
     "name": "stderr",
     "output_type": "stream",
     "text": [
      " 39%|███▊      | 772/2000 [01:37<02:24,  8.52it/s]"
     ]
    },
    {
     "name": "stdout",
     "output_type": "stream",
     "text": [
      "Invalid category_id: 85\n",
      "Invalid category_id: 86\n"
     ]
    },
    {
     "name": "stderr",
     "output_type": "stream",
     "text": [
      " 39%|███▊      | 774/2000 [01:38<02:28,  8.25it/s]"
     ]
    },
    {
     "name": "stdout",
     "output_type": "stream",
     "text": [
      "Invalid category_id: 88\n",
      "Invalid category_id: 80\n",
      "Invalid category_id: 85\n",
      "Invalid category_id: 83\n",
      "Invalid category_id: 83\n",
      "Invalid category_id: 83\n"
     ]
    },
    {
     "name": "stderr",
     "output_type": "stream",
     "text": [
      " 39%|███▉      | 783/2000 [01:39<02:35,  7.84it/s]"
     ]
    },
    {
     "name": "stdout",
     "output_type": "stream",
     "text": [
      "Invalid category_id: 83\n"
     ]
    },
    {
     "name": "stderr",
     "output_type": "stream",
     "text": [
      " 40%|████      | 805/2000 [01:42<02:40,  7.45it/s]"
     ]
    },
    {
     "name": "stdout",
     "output_type": "stream",
     "text": [
      "Invalid category_id: 84\n"
     ]
    },
    {
     "name": "stderr",
     "output_type": "stream",
     "text": [
      " 41%|████      | 816/2000 [01:43<02:37,  7.54it/s]"
     ]
    },
    {
     "name": "stdout",
     "output_type": "stream",
     "text": [
      "Invalid category_id: 84\n",
      "Invalid category_id: 84\n"
     ]
    },
    {
     "name": "stderr",
     "output_type": "stream",
     "text": [
      " 41%|████      | 820/2000 [01:43<02:31,  7.81it/s]"
     ]
    },
    {
     "name": "stdout",
     "output_type": "stream",
     "text": [
      "Invalid category_id: 83\n",
      "Invalid category_id: 83\n",
      "Invalid category_id: 83\n",
      "Invalid category_id: 83\n",
      "Invalid category_id: 83\n",
      "Invalid category_id: 83\n",
      "Invalid category_id: 83\n",
      "Invalid category_id: 83\n",
      "Invalid category_id: 83\n",
      "Invalid category_id: 83\n",
      "Invalid category_id: 83\n",
      "Invalid category_id: 83\n",
      "Invalid category_id: 83\n",
      "Invalid category_id: 83\n",
      "Invalid category_id: 84\n",
      "Invalid category_id: 84\n"
     ]
    },
    {
     "name": "stderr",
     "output_type": "stream",
     "text": [
      " 41%|████      | 823/2000 [01:44<02:22,  8.24it/s]"
     ]
    },
    {
     "name": "stdout",
     "output_type": "stream",
     "text": [
      "Invalid category_id: 87\n",
      "Invalid category_id: 87\n",
      "Invalid category_id: 87\n"
     ]
    },
    {
     "name": "stderr",
     "output_type": "stream",
     "text": [
      " 41%|████▏     | 826/2000 [01:44<02:24,  8.13it/s]"
     ]
    },
    {
     "name": "stdout",
     "output_type": "stream",
     "text": [
      "Invalid category_id: 80\n"
     ]
    },
    {
     "name": "stderr",
     "output_type": "stream",
     "text": [
      " 42%|████▏     | 831/2000 [01:45<02:48,  6.92it/s]"
     ]
    },
    {
     "name": "stdout",
     "output_type": "stream",
     "text": [
      "Invalid category_id: 83\n",
      "Invalid category_id: 83\n",
      "Invalid category_id: 85\n",
      "Invalid category_id: 83\n",
      "Invalid category_id: 83\n"
     ]
    },
    {
     "name": "stderr",
     "output_type": "stream",
     "text": [
      " 42%|████▏     | 849/2000 [01:47<02:38,  7.25it/s]"
     ]
    },
    {
     "name": "stdout",
     "output_type": "stream",
     "text": [
      "Invalid category_id: 83\n",
      "Invalid category_id: 83\n",
      "Invalid category_id: 83\n",
      "Invalid category_id: 83\n",
      "Invalid category_id: 83\n",
      "Invalid category_id: 83\n"
     ]
    },
    {
     "name": "stderr",
     "output_type": "stream",
     "text": [
      " 43%|████▎     | 852/2000 [01:48<02:56,  6.51it/s]"
     ]
    },
    {
     "name": "stdout",
     "output_type": "stream",
     "text": [
      "Invalid category_id: 85\n"
     ]
    },
    {
     "name": "stderr",
     "output_type": "stream",
     "text": [
      " 43%|████▎     | 864/2000 [01:49<02:25,  7.79it/s]"
     ]
    },
    {
     "name": "stdout",
     "output_type": "stream",
     "text": [
      "Invalid category_id: 80\n",
      "Invalid category_id: 86\n"
     ]
    },
    {
     "name": "stderr",
     "output_type": "stream",
     "text": [
      " 43%|████▎     | 869/2000 [01:50<02:22,  7.93it/s]"
     ]
    },
    {
     "name": "stdout",
     "output_type": "stream",
     "text": [
      "Invalid category_id: 87\n",
      "Invalid category_id: 87\n",
      "Invalid category_id: 81\n"
     ]
    },
    {
     "name": "stderr",
     "output_type": "stream",
     "text": [
      " 44%|████▎     | 871/2000 [01:50<02:36,  7.23it/s]"
     ]
    },
    {
     "name": "stdout",
     "output_type": "stream",
     "text": [
      "Invalid category_id: 84\n"
     ]
    },
    {
     "name": "stderr",
     "output_type": "stream",
     "text": [
      " 44%|████▍     | 876/2000 [01:51<02:34,  7.28it/s]"
     ]
    },
    {
     "name": "stdout",
     "output_type": "stream",
     "text": [
      "Invalid category_id: 80\n",
      "Invalid category_id: 80\n"
     ]
    },
    {
     "name": "stderr",
     "output_type": "stream",
     "text": [
      " 44%|████▍     | 881/2000 [01:52<02:18,  8.09it/s]"
     ]
    },
    {
     "name": "stdout",
     "output_type": "stream",
     "text": [
      "Invalid category_id: 83\n",
      "Invalid category_id: 83\n"
     ]
    },
    {
     "name": "stderr",
     "output_type": "stream",
     "text": [
      " 46%|████▌     | 911/2000 [01:56<02:28,  7.31it/s]"
     ]
    },
    {
     "name": "stdout",
     "output_type": "stream",
     "text": [
      "Invalid category_id: 83\n"
     ]
    },
    {
     "name": "stderr",
     "output_type": "stream",
     "text": [
      " 46%|████▌     | 922/2000 [01:57<02:08,  8.38it/s]"
     ]
    },
    {
     "name": "stdout",
     "output_type": "stream",
     "text": [
      "Invalid category_id: 84\n",
      "Invalid category_id: 84\n",
      "Invalid category_id: 85\n"
     ]
    },
    {
     "name": "stderr",
     "output_type": "stream",
     "text": [
      " 46%|████▋     | 925/2000 [01:57<02:20,  7.65it/s]"
     ]
    },
    {
     "name": "stdout",
     "output_type": "stream",
     "text": [
      "Invalid category_id: 85\n"
     ]
    },
    {
     "name": "stderr",
     "output_type": "stream",
     "text": [
      " 46%|████▋     | 929/2000 [01:58<02:08,  8.31it/s]"
     ]
    },
    {
     "name": "stdout",
     "output_type": "stream",
     "text": [
      "Invalid category_id: 81\n",
      "Invalid category_id: 80\n"
     ]
    },
    {
     "name": "stderr",
     "output_type": "stream",
     "text": [
      " 47%|████▋     | 931/2000 [01:58<02:12,  8.09it/s]"
     ]
    },
    {
     "name": "stdout",
     "output_type": "stream",
     "text": [
      "Invalid category_id: 80\n"
     ]
    },
    {
     "name": "stderr",
     "output_type": "stream",
     "text": [
      " 47%|████▋     | 934/2000 [01:59<02:28,  7.16it/s]"
     ]
    },
    {
     "name": "stdout",
     "output_type": "stream",
     "text": [
      "Invalid category_id: 81\n",
      "Invalid category_id: 83\n",
      "Invalid category_id: 83\n",
      "Invalid category_id: 83\n",
      "Invalid category_id: 83\n",
      "Invalid category_id: 83\n",
      "Invalid category_id: 83\n",
      "Invalid category_id: 83\n"
     ]
    },
    {
     "name": "stderr",
     "output_type": "stream",
     "text": [
      " 47%|████▋     | 938/2000 [01:59<02:18,  7.67it/s]"
     ]
    },
    {
     "name": "stdout",
     "output_type": "stream",
     "text": [
      "Invalid category_id: 84\n",
      "Invalid category_id: 84\n"
     ]
    },
    {
     "name": "stderr",
     "output_type": "stream",
     "text": [
      " 48%|████▊     | 963/2000 [02:03<02:18,  7.49it/s]"
     ]
    },
    {
     "name": "stdout",
     "output_type": "stream",
     "text": [
      "Invalid category_id: 83\n",
      "Invalid category_id: 83\n",
      "Invalid category_id: 83\n",
      "Invalid category_id: 83\n",
      "Invalid category_id: 83\n",
      "Invalid category_id: 83\n",
      "Invalid category_id: 83\n",
      "Invalid category_id: 83\n",
      "Invalid category_id: 83\n",
      "Invalid category_id: 83\n",
      "Invalid category_id: 83\n",
      "Invalid category_id: 83\n",
      "Invalid category_id: 83\n"
     ]
    },
    {
     "name": "stderr",
     "output_type": "stream",
     "text": [
      " 48%|████▊     | 969/2000 [02:03<02:05,  8.20it/s]"
     ]
    },
    {
     "name": "stdout",
     "output_type": "stream",
     "text": [
      "Invalid category_id: 83\n",
      "Invalid category_id: 83\n",
      "Invalid category_id: 83\n",
      "Invalid category_id: 83\n",
      "Invalid category_id: 85\n",
      "Invalid category_id: 85\n",
      "Invalid category_id: 83\n"
     ]
    },
    {
     "name": "stderr",
     "output_type": "stream",
     "text": [
      " 49%|████▊     | 971/2000 [02:03<02:03,  8.34it/s]"
     ]
    },
    {
     "name": "stdout",
     "output_type": "stream",
     "text": [
      "Invalid category_id: 83\n",
      "Invalid category_id: 83\n",
      "Invalid category_id: 83\n",
      "Invalid category_id: 83\n",
      "Invalid category_id: 83\n",
      "Invalid category_id: 83\n",
      "Invalid category_id: 83\n",
      "Invalid category_id: 83\n",
      "Invalid category_id: 83\n",
      "Invalid category_id: 83\n",
      "Invalid category_id: 83\n"
     ]
    },
    {
     "name": "stderr",
     "output_type": "stream",
     "text": [
      " 49%|████▊     | 974/2000 [02:04<01:59,  8.62it/s]"
     ]
    },
    {
     "name": "stdout",
     "output_type": "stream",
     "text": [
      "Invalid category_id: 87\n",
      "Invalid category_id: 83\n"
     ]
    },
    {
     "name": "stderr",
     "output_type": "stream",
     "text": [
      " 49%|████▉     | 977/2000 [02:04<02:10,  7.85it/s]"
     ]
    },
    {
     "name": "stdout",
     "output_type": "stream",
     "text": [
      "Invalid category_id: 84\n",
      "Invalid category_id: 84\n"
     ]
    },
    {
     "name": "stderr",
     "output_type": "stream",
     "text": [
      " 49%|████▉     | 979/2000 [02:04<02:11,  7.79it/s]"
     ]
    },
    {
     "name": "stdout",
     "output_type": "stream",
     "text": [
      "Invalid category_id: 81\n"
     ]
    },
    {
     "name": "stderr",
     "output_type": "stream",
     "text": [
      " 49%|████▉     | 981/2000 [02:05<02:04,  8.17it/s]"
     ]
    },
    {
     "name": "stdout",
     "output_type": "stream",
     "text": [
      "Invalid category_id: 81\n",
      "Invalid category_id: 80\n"
     ]
    },
    {
     "name": "stderr",
     "output_type": "stream",
     "text": [
      " 51%|█████     | 1012/2000 [02:09<02:09,  7.63it/s]"
     ]
    },
    {
     "name": "stdout",
     "output_type": "stream",
     "text": [
      "Invalid category_id: 83\n",
      "Invalid category_id: 83\n",
      "Invalid category_id: 83\n",
      "Invalid category_id: 83\n",
      "Invalid category_id: 84\n"
     ]
    },
    {
     "name": "stderr",
     "output_type": "stream",
     "text": [
      " 51%|█████     | 1021/2000 [02:10<01:56,  8.43it/s]"
     ]
    },
    {
     "name": "stdout",
     "output_type": "stream",
     "text": [
      "Invalid category_id: 80\n",
      "Invalid category_id: 80\n",
      "Invalid category_id: 85\n"
     ]
    },
    {
     "name": "stderr",
     "output_type": "stream",
     "text": [
      " 51%|█████▏    | 1026/2000 [02:10<02:10,  7.47it/s]"
     ]
    },
    {
     "name": "stdout",
     "output_type": "stream",
     "text": [
      "Invalid category_id: 81\n"
     ]
    },
    {
     "name": "stderr",
     "output_type": "stream",
     "text": [
      " 52%|█████▏    | 1047/2000 [02:13<02:01,  7.82it/s]"
     ]
    },
    {
     "name": "stdout",
     "output_type": "stream",
     "text": [
      "Invalid category_id: 84\n",
      "Invalid category_id: 84\n"
     ]
    },
    {
     "name": "stderr",
     "output_type": "stream",
     "text": [
      " 53%|█████▎    | 1062/2000 [02:15<02:04,  7.53it/s]"
     ]
    },
    {
     "name": "stdout",
     "output_type": "stream",
     "text": [
      "Invalid category_id: 80\n"
     ]
    },
    {
     "name": "stderr",
     "output_type": "stream",
     "text": [
      " 53%|█████▎    | 1067/2000 [02:16<02:02,  7.63it/s]"
     ]
    },
    {
     "name": "stdout",
     "output_type": "stream",
     "text": [
      "Invalid category_id: 89\n",
      "Invalid category_id: 80\n",
      "Invalid category_id: 83\n",
      "Invalid category_id: 83\n"
     ]
    },
    {
     "name": "stderr",
     "output_type": "stream",
     "text": [
      " 54%|█████▎    | 1074/2000 [02:17<01:51,  8.29it/s]"
     ]
    },
    {
     "name": "stdout",
     "output_type": "stream",
     "text": [
      "Invalid category_id: 84\n",
      "Invalid category_id: 84\n",
      "Invalid category_id: 84\n"
     ]
    },
    {
     "name": "stderr",
     "output_type": "stream",
     "text": [
      " 54%|█████▍    | 1076/2000 [02:17<01:59,  7.72it/s]"
     ]
    },
    {
     "name": "stdout",
     "output_type": "stream",
     "text": [
      "Invalid category_id: 86\n",
      "Invalid category_id: 80\n",
      "Invalid category_id: 80\n"
     ]
    },
    {
     "name": "stderr",
     "output_type": "stream",
     "text": [
      " 54%|█████▍    | 1078/2000 [02:17<02:02,  7.51it/s]"
     ]
    },
    {
     "name": "stdout",
     "output_type": "stream",
     "text": [
      "Invalid category_id: 80\n"
     ]
    },
    {
     "name": "stderr",
     "output_type": "stream",
     "text": [
      " 54%|█████▍    | 1085/2000 [02:18<02:08,  7.11it/s]"
     ]
    },
    {
     "name": "stdout",
     "output_type": "stream",
     "text": [
      "Invalid category_id: 84\n"
     ]
    },
    {
     "name": "stderr",
     "output_type": "stream",
     "text": [
      " 55%|█████▍    | 1090/2000 [02:19<02:05,  7.25it/s]"
     ]
    },
    {
     "name": "stdout",
     "output_type": "stream",
     "text": [
      "Invalid category_id: 83\n",
      "Invalid category_id: 83\n",
      "Invalid category_id: 83\n",
      "Invalid category_id: 83\n",
      "Invalid category_id: 83\n",
      "Invalid category_id: 83\n",
      "Invalid category_id: 83\n",
      "Invalid category_id: 83\n"
     ]
    },
    {
     "name": "stderr",
     "output_type": "stream",
     "text": [
      " 55%|█████▌    | 1107/2000 [02:21<02:08,  6.96it/s]"
     ]
    },
    {
     "name": "stdout",
     "output_type": "stream",
     "text": [
      "Invalid category_id: 83\n",
      "Invalid category_id: 83\n",
      "Invalid category_id: 83\n",
      "Invalid category_id: 83\n",
      "Invalid category_id: 83\n",
      "Invalid category_id: 83\n",
      "Invalid category_id: 83\n",
      "Invalid category_id: 83\n",
      "Invalid category_id: 83\n",
      "Invalid category_id: 83\n",
      "Invalid category_id: 83\n",
      "Invalid category_id: 83\n",
      "Invalid category_id: 83\n",
      "Invalid category_id: 83\n",
      "Invalid category_id: 83\n",
      "Invalid category_id: 84\n",
      "Invalid category_id: 83\n"
     ]
    },
    {
     "name": "stderr",
     "output_type": "stream",
     "text": [
      " 56%|█████▌    | 1111/2000 [02:22<01:56,  7.63it/s]"
     ]
    },
    {
     "name": "stdout",
     "output_type": "stream",
     "text": [
      "Invalid category_id: 83\n",
      "Invalid category_id: 83\n",
      "Invalid category_id: 83\n",
      "Invalid category_id: 83\n",
      "Invalid category_id: 83\n",
      "Invalid category_id: 83\n",
      "Invalid category_id: 83\n",
      "Invalid category_id: 83\n",
      "Invalid category_id: 83\n",
      "Invalid category_id: 83\n",
      "Invalid category_id: 85\n",
      "Invalid category_id: 85\n",
      "Invalid category_id: 83\n",
      "Invalid category_id: 83\n",
      "Invalid category_id: 83\n"
     ]
    },
    {
     "name": "stderr",
     "output_type": "stream",
     "text": [
      " 56%|█████▌    | 1115/2000 [02:22<02:04,  7.11it/s]"
     ]
    },
    {
     "name": "stdout",
     "output_type": "stream",
     "text": [
      "Invalid category_id: 84\n"
     ]
    },
    {
     "name": "stderr",
     "output_type": "stream",
     "text": [
      " 56%|█████▌    | 1118/2000 [02:22<01:47,  8.23it/s]"
     ]
    },
    {
     "name": "stdout",
     "output_type": "stream",
     "text": [
      "Invalid category_id: 87\n"
     ]
    },
    {
     "name": "stderr",
     "output_type": "stream",
     "text": [
      " 56%|█████▌    | 1121/2000 [02:23<01:51,  7.89it/s]"
     ]
    },
    {
     "name": "stdout",
     "output_type": "stream",
     "text": [
      "Invalid category_id: 81\n",
      "Invalid category_id: 80\n"
     ]
    },
    {
     "name": "stderr",
     "output_type": "stream",
     "text": [
      " 57%|█████▋    | 1141/2000 [02:25<01:41,  8.47it/s]"
     ]
    },
    {
     "name": "stdout",
     "output_type": "stream",
     "text": [
      "Invalid category_id: 84\n"
     ]
    },
    {
     "name": "stderr",
     "output_type": "stream",
     "text": [
      " 57%|█████▋    | 1149/2000 [02:26<01:41,  8.37it/s]"
     ]
    },
    {
     "name": "stdout",
     "output_type": "stream",
     "text": [
      "Invalid category_id: 83\n",
      "Invalid category_id: 83\n",
      "Invalid category_id: 83\n"
     ]
    },
    {
     "name": "stderr",
     "output_type": "stream",
     "text": [
      " 58%|█████▊    | 1164/2000 [02:28<01:32,  9.05it/s]"
     ]
    },
    {
     "name": "stdout",
     "output_type": "stream",
     "text": [
      "Invalid category_id: 84\n"
     ]
    },
    {
     "name": "stderr",
     "output_type": "stream",
     "text": [
      " 58%|█████▊    | 1170/2000 [02:29<01:31,  9.03it/s]"
     ]
    },
    {
     "name": "stdout",
     "output_type": "stream",
     "text": [
      "Invalid category_id: 84\n",
      "Invalid category_id: 84\n",
      "Invalid category_id: 84\n",
      "Invalid category_id: 84\n",
      "Invalid category_id: 84\n",
      "Invalid category_id: 87\n",
      "Invalid category_id: 87\n",
      "Invalid category_id: 87\n",
      "Invalid category_id: 87\n",
      "Invalid category_id: 87\n",
      "Invalid category_id: 87\n",
      "Invalid category_id: 87\n",
      "Invalid category_id: 84\n"
     ]
    },
    {
     "name": "stderr",
     "output_type": "stream",
     "text": [
      " 59%|█████▊    | 1173/2000 [02:29<01:30,  9.14it/s]"
     ]
    },
    {
     "name": "stdout",
     "output_type": "stream",
     "text": [
      "Invalid category_id: 80\n"
     ]
    },
    {
     "name": "stderr",
     "output_type": "stream",
     "text": [
      " 59%|█████▉    | 1175/2000 [02:29<01:38,  8.39it/s]"
     ]
    },
    {
     "name": "stdout",
     "output_type": "stream",
     "text": [
      "Invalid category_id: 80\n",
      "Invalid category_id: 80\n"
     ]
    },
    {
     "name": "stderr",
     "output_type": "stream",
     "text": [
      " 60%|█████▉    | 1197/2000 [02:32<01:36,  8.30it/s]"
     ]
    },
    {
     "name": "stdout",
     "output_type": "stream",
     "text": [
      "Invalid category_id: 84\n"
     ]
    },
    {
     "name": "stderr",
     "output_type": "stream",
     "text": [
      " 60%|██████    | 1207/2000 [02:33<01:31,  8.71it/s]"
     ]
    },
    {
     "name": "stdout",
     "output_type": "stream",
     "text": [
      "Invalid category_id: 83\n",
      "Invalid category_id: 83\n",
      "Invalid category_id: 83\n"
     ]
    },
    {
     "name": "stderr",
     "output_type": "stream",
     "text": [
      " 61%|██████    | 1214/2000 [02:34<01:39,  7.94it/s]"
     ]
    },
    {
     "name": "stdout",
     "output_type": "stream",
     "text": [
      "Invalid category_id: 89\n"
     ]
    },
    {
     "name": "stderr",
     "output_type": "stream",
     "text": [
      " 61%|██████    | 1218/2000 [02:35<01:39,  7.90it/s]"
     ]
    },
    {
     "name": "stdout",
     "output_type": "stream",
     "text": [
      "Invalid category_id: 87\n",
      "Invalid category_id: 81\n"
     ]
    },
    {
     "name": "stderr",
     "output_type": "stream",
     "text": [
      " 61%|██████    | 1220/2000 [02:35<01:45,  7.41it/s]"
     ]
    },
    {
     "name": "stdout",
     "output_type": "stream",
     "text": [
      "Invalid category_id: 81\n",
      "Invalid category_id: 83\n"
     ]
    },
    {
     "name": "stderr",
     "output_type": "stream",
     "text": [
      " 61%|██████    | 1223/2000 [02:36<01:44,  7.41it/s]"
     ]
    },
    {
     "name": "stdout",
     "output_type": "stream",
     "text": [
      "Invalid category_id: 84\n",
      "Invalid category_id: 80\n",
      "Invalid category_id: 80\n",
      "Invalid category_id: 81\n",
      "Invalid category_id: 83\n"
     ]
    },
    {
     "name": "stderr",
     "output_type": "stream",
     "text": [
      " 61%|██████▏   | 1227/2000 [02:36<01:27,  8.88it/s]"
     ]
    },
    {
     "name": "stdout",
     "output_type": "stream",
     "text": [
      "Invalid category_id: 83\n",
      "Invalid category_id: 83\n",
      "Invalid category_id: 83\n",
      "Invalid category_id: 83\n",
      "Invalid category_id: 83\n",
      "Invalid category_id: 83\n",
      "Invalid category_id: 83\n",
      "Invalid category_id: 83\n",
      "Invalid category_id: 83\n",
      "Invalid category_id: 83\n",
      "Invalid category_id: 83\n",
      "Invalid category_id: 83\n",
      "Invalid category_id: 83\n",
      "Invalid category_id: 83\n",
      "Invalid category_id: 80\n",
      "Invalid category_id: 88\n"
     ]
    },
    {
     "name": "stderr",
     "output_type": "stream",
     "text": [
      " 62%|██████▏   | 1244/2000 [02:38<01:38,  7.66it/s]"
     ]
    },
    {
     "name": "stdout",
     "output_type": "stream",
     "text": [
      "Invalid category_id: 87\n"
     ]
    },
    {
     "name": "stderr",
     "output_type": "stream",
     "text": [
      " 64%|██████▍   | 1282/2000 [02:43<01:33,  7.68it/s]"
     ]
    },
    {
     "name": "stdout",
     "output_type": "stream",
     "text": [
      "Invalid category_id: 84\n",
      "Invalid category_id: 84\n"
     ]
    },
    {
     "name": "stderr",
     "output_type": "stream",
     "text": [
      " 64%|██████▍   | 1284/2000 [02:43<01:31,  7.79it/s]"
     ]
    },
    {
     "name": "stdout",
     "output_type": "stream",
     "text": [
      "Invalid category_id: 84\n",
      "Invalid category_id: 84\n"
     ]
    },
    {
     "name": "stderr",
     "output_type": "stream",
     "text": [
      " 64%|██████▍   | 1290/2000 [02:44<01:15,  9.45it/s]"
     ]
    },
    {
     "name": "stdout",
     "output_type": "stream",
     "text": [
      "Invalid category_id: 80\n",
      "Invalid category_id: 80\n",
      "Invalid category_id: 83\n"
     ]
    },
    {
     "name": "stderr",
     "output_type": "stream",
     "text": [
      " 65%|██████▌   | 1305/2000 [02:46<01:30,  7.71it/s]"
     ]
    },
    {
     "name": "stdout",
     "output_type": "stream",
     "text": [
      "Invalid category_id: 83\n",
      "Invalid category_id: 83\n"
     ]
    },
    {
     "name": "stderr",
     "output_type": "stream",
     "text": [
      " 66%|██████▋   | 1328/2000 [02:49<01:17,  8.66it/s]"
     ]
    },
    {
     "name": "stdout",
     "output_type": "stream",
     "text": [
      "Invalid category_id: 83\n",
      "Invalid category_id: 83\n",
      "Invalid category_id: 83\n"
     ]
    },
    {
     "name": "stderr",
     "output_type": "stream",
     "text": [
      " 66%|██████▋   | 1330/2000 [02:49<01:21,  8.18it/s]"
     ]
    },
    {
     "name": "stdout",
     "output_type": "stream",
     "text": [
      "Invalid category_id: 87\n",
      "Invalid category_id: 84\n",
      "Invalid category_id: 84\n"
     ]
    },
    {
     "name": "stderr",
     "output_type": "stream",
     "text": [
      " 67%|██████▋   | 1332/2000 [02:49<01:31,  7.32it/s]"
     ]
    },
    {
     "name": "stdout",
     "output_type": "stream",
     "text": [
      "Invalid category_id: 83\n",
      "Invalid category_id: 83\n",
      "Invalid category_id: 83\n",
      "Invalid category_id: 83\n",
      "Invalid category_id: 83\n",
      "Invalid category_id: 83\n",
      "Invalid category_id: 83\n",
      "Invalid category_id: 83\n",
      "Invalid category_id: 83\n",
      "Invalid category_id: 83\n",
      "Invalid category_id: 83\n",
      "Invalid category_id: 83\n",
      "Invalid category_id: 83\n",
      "Invalid category_id: 83\n",
      "Invalid category_id: 86\n"
     ]
    },
    {
     "name": "stderr",
     "output_type": "stream",
     "text": [
      " 67%|██████▋   | 1334/2000 [02:50<01:34,  7.08it/s]"
     ]
    },
    {
     "name": "stdout",
     "output_type": "stream",
     "text": [
      "Invalid category_id: 84\n"
     ]
    },
    {
     "name": "stderr",
     "output_type": "stream",
     "text": [
      " 67%|██████▋   | 1340/2000 [02:50<01:20,  8.23it/s]"
     ]
    },
    {
     "name": "stdout",
     "output_type": "stream",
     "text": [
      "Invalid category_id: 80\n"
     ]
    },
    {
     "name": "stderr",
     "output_type": "stream",
     "text": [
      " 68%|██████▊   | 1367/2000 [02:54<01:22,  7.71it/s]"
     ]
    },
    {
     "name": "stdout",
     "output_type": "stream",
     "text": [
      "Invalid category_id: 87\n",
      "Invalid category_id: 89\n",
      "Invalid category_id: 89\n",
      "Invalid category_id: 83\n",
      "Invalid category_id: 83\n",
      "Invalid category_id: 83\n",
      "Invalid category_id: 83\n",
      "Invalid category_id: 83\n",
      "Invalid category_id: 89\n",
      "Invalid category_id: 89\n"
     ]
    },
    {
     "name": "stderr",
     "output_type": "stream",
     "text": [
      " 69%|██████▉   | 1376/2000 [02:55<01:17,  8.01it/s]"
     ]
    },
    {
     "name": "stdout",
     "output_type": "stream",
     "text": [
      "Invalid category_id: 84\n",
      "Invalid category_id: 83\n"
     ]
    },
    {
     "name": "stderr",
     "output_type": "stream",
     "text": [
      " 69%|██████▉   | 1381/2000 [02:56<01:12,  8.59it/s]"
     ]
    },
    {
     "name": "stdout",
     "output_type": "stream",
     "text": [
      "Invalid category_id: 80\n",
      "Invalid category_id: 81\n",
      "Invalid category_id: 84\n",
      "Invalid category_id: 85\n",
      "Invalid category_id: 85\n",
      "Invalid category_id: 85\n"
     ]
    },
    {
     "name": "stderr",
     "output_type": "stream",
     "text": [
      " 71%|███████▏  | 1429/2000 [03:02<01:20,  7.07it/s]"
     ]
    },
    {
     "name": "stdout",
     "output_type": "stream",
     "text": [
      "Invalid category_id: 83\n",
      "Invalid category_id: 83\n",
      "Invalid category_id: 85\n",
      "Invalid category_id: 85\n"
     ]
    },
    {
     "name": "stderr",
     "output_type": "stream",
     "text": [
      " 72%|███████▏  | 1439/2000 [03:03<01:09,  8.05it/s]"
     ]
    },
    {
     "name": "stdout",
     "output_type": "stream",
     "text": [
      "Invalid category_id: 87\n",
      "Invalid category_id: 84\n"
     ]
    },
    {
     "name": "stderr",
     "output_type": "stream",
     "text": [
      " 72%|███████▏  | 1441/2000 [03:03<01:10,  7.89it/s]"
     ]
    },
    {
     "name": "stdout",
     "output_type": "stream",
     "text": [
      "Invalid category_id: 84\n",
      "Invalid category_id: 86\n",
      "Invalid category_id: 86\n"
     ]
    },
    {
     "name": "stderr",
     "output_type": "stream",
     "text": [
      " 72%|███████▏  | 1443/2000 [03:04<01:11,  7.81it/s]"
     ]
    },
    {
     "name": "stdout",
     "output_type": "stream",
     "text": [
      "Invalid category_id: 83\n",
      "Invalid category_id: 83\n",
      "Invalid category_id: 83\n",
      "Invalid category_id: 83\n",
      "Invalid category_id: 83\n",
      "Invalid category_id: 86\n",
      "Invalid category_id: 87\n",
      "Invalid category_id: 87\n"
     ]
    },
    {
     "name": "stderr",
     "output_type": "stream",
     "text": [
      " 72%|███████▏  | 1447/2000 [03:04<01:03,  8.74it/s]"
     ]
    },
    {
     "name": "stdout",
     "output_type": "stream",
     "text": [
      "Invalid category_id: 81\n",
      "Invalid category_id: 83\n"
     ]
    },
    {
     "name": "stderr",
     "output_type": "stream",
     "text": [
      " 73%|███████▎  | 1469/2000 [03:07<01:12,  7.37it/s]"
     ]
    },
    {
     "name": "stdout",
     "output_type": "stream",
     "text": [
      "Invalid category_id: 87\n"
     ]
    },
    {
     "name": "stderr",
     "output_type": "stream",
     "text": [
      " 74%|███████▍  | 1477/2000 [03:08<01:15,  6.92it/s]"
     ]
    },
    {
     "name": "stdout",
     "output_type": "stream",
     "text": [
      "Invalid category_id: 83\n"
     ]
    },
    {
     "name": "stderr",
     "output_type": "stream",
     "text": [
      " 74%|███████▍  | 1482/2000 [03:09<01:10,  7.39it/s]"
     ]
    },
    {
     "name": "stdout",
     "output_type": "stream",
     "text": [
      "Invalid category_id: 84\n",
      "Invalid category_id: 83\n",
      "Invalid category_id: 83\n",
      "Invalid category_id: 83\n",
      "Invalid category_id: 83\n",
      "Invalid category_id: 83\n",
      "Invalid category_id: 83\n",
      "Invalid category_id: 83\n",
      "Invalid category_id: 83\n",
      "Invalid category_id: 83\n",
      "Invalid category_id: 83\n",
      "Invalid category_id: 83\n",
      "Invalid category_id: 83\n",
      "Invalid category_id: 83\n",
      "Invalid category_id: 83\n"
     ]
    },
    {
     "name": "stderr",
     "output_type": "stream",
     "text": [
      " 74%|███████▍  | 1483/2000 [03:09<01:12,  7.13it/s]"
     ]
    },
    {
     "name": "stdout",
     "output_type": "stream",
     "text": [
      "Invalid category_id: 83\n",
      "Invalid category_id: 83\n",
      "Invalid category_id: 83\n",
      "Invalid category_id: 83\n",
      "Invalid category_id: 83\n",
      "Invalid category_id: 83\n",
      "Invalid category_id: 83\n",
      "Invalid category_id: 83\n",
      "Invalid category_id: 83\n",
      "Invalid category_id: 83\n",
      "Invalid category_id: 83\n",
      "Invalid category_id: 83\n",
      "Invalid category_id: 83\n",
      "Invalid category_id: 83\n"
     ]
    },
    {
     "name": "stderr",
     "output_type": "stream",
     "text": [
      " 74%|███████▍  | 1487/2000 [03:09<01:04,  7.95it/s]"
     ]
    },
    {
     "name": "stdout",
     "output_type": "stream",
     "text": [
      "Invalid category_id: 85\n"
     ]
    },
    {
     "name": "stderr",
     "output_type": "stream",
     "text": [
      " 74%|███████▍  | 1490/2000 [03:10<01:03,  7.97it/s]"
     ]
    },
    {
     "name": "stdout",
     "output_type": "stream",
     "text": [
      "Invalid category_id: 83\n",
      "Invalid category_id: 83\n",
      "Invalid category_id: 83\n",
      "Invalid category_id: 85\n",
      "Invalid category_id: 83\n",
      "Invalid category_id: 83\n",
      "Invalid category_id: 83\n",
      "Invalid category_id: 83\n",
      "Invalid category_id: 83\n",
      "Invalid category_id: 83\n",
      "Invalid category_id: 83\n",
      "Invalid category_id: 83\n",
      "Invalid category_id: 83\n",
      "Invalid category_id: 83\n"
     ]
    },
    {
     "name": "stderr",
     "output_type": "stream",
     "text": [
      " 75%|███████▍  | 1492/2000 [03:10<00:59,  8.48it/s]"
     ]
    },
    {
     "name": "stdout",
     "output_type": "stream",
     "text": [
      "Invalid category_id: 87\n",
      "Invalid category_id: 84\n",
      "Invalid category_id: 84\n",
      "Invalid category_id: 84\n"
     ]
    },
    {
     "name": "stderr",
     "output_type": "stream",
     "text": [
      " 75%|███████▍  | 1495/2000 [03:10<00:53,  9.49it/s]"
     ]
    },
    {
     "name": "stdout",
     "output_type": "stream",
     "text": [
      "Invalid category_id: 85\n",
      "Invalid category_id: 85\n",
      "Invalid category_id: 85\n"
     ]
    },
    {
     "name": "stderr",
     "output_type": "stream",
     "text": [
      " 75%|███████▌  | 1501/2000 [03:11<00:54,  9.20it/s]"
     ]
    },
    {
     "name": "stdout",
     "output_type": "stream",
     "text": [
      "Invalid category_id: 83\n",
      "Invalid category_id: 83\n",
      "Invalid category_id: 85\n",
      "Invalid category_id: 83\n",
      "Invalid category_id: 83\n",
      "Invalid category_id: 83\n",
      "Invalid category_id: 83\n",
      "Invalid category_id: 83\n",
      "Invalid category_id: 83\n",
      "Invalid category_id: 85\n",
      "Invalid category_id: 83\n",
      "Invalid category_id: 83\n",
      "Invalid category_id: 83\n"
     ]
    },
    {
     "name": "stderr",
     "output_type": "stream",
     "text": [
      " 76%|███████▋  | 1529/2000 [03:15<01:00,  7.84it/s]"
     ]
    },
    {
     "name": "stdout",
     "output_type": "stream",
     "text": [
      "Invalid category_id: 83\n",
      "Invalid category_id: 83\n"
     ]
    },
    {
     "name": "stderr",
     "output_type": "stream",
     "text": [
      " 77%|███████▋  | 1536/2000 [03:16<01:01,  7.54it/s]"
     ]
    },
    {
     "name": "stdout",
     "output_type": "stream",
     "text": [
      "Invalid category_id: 81\n"
     ]
    },
    {
     "name": "stderr",
     "output_type": "stream",
     "text": [
      " 77%|███████▋  | 1538/2000 [03:16<00:59,  7.80it/s]"
     ]
    },
    {
     "name": "stdout",
     "output_type": "stream",
     "text": [
      "Invalid category_id: 80\n"
     ]
    },
    {
     "name": "stderr",
     "output_type": "stream",
     "text": [
      " 77%|███████▋  | 1541/2000 [03:16<01:05,  7.01it/s]"
     ]
    },
    {
     "name": "stdout",
     "output_type": "stream",
     "text": [
      "Invalid category_id: 80\n",
      "Invalid category_id: 80\n"
     ]
    },
    {
     "name": "stderr",
     "output_type": "stream",
     "text": [
      " 78%|███████▊  | 1570/2000 [03:20<00:52,  8.26it/s]"
     ]
    },
    {
     "name": "stdout",
     "output_type": "stream",
     "text": [
      "Invalid category_id: 83\n",
      "Invalid category_id: 83\n",
      "Invalid category_id: 83\n",
      "Invalid category_id: 83\n",
      "Invalid category_id: 83\n",
      "Invalid category_id: 83\n",
      "Invalid category_id: 83\n",
      "Invalid category_id: 83\n",
      "Invalid category_id: 83\n",
      "Invalid category_id: 83\n",
      "Invalid category_id: 83\n",
      "Invalid category_id: 83\n",
      "Invalid category_id: 83\n",
      "Invalid category_id: 83\n"
     ]
    },
    {
     "name": "stderr",
     "output_type": "stream",
     "text": [
      " 79%|███████▉  | 1575/2000 [03:21<00:56,  7.50it/s]"
     ]
    },
    {
     "name": "stdout",
     "output_type": "stream",
     "text": [
      "Invalid category_id: 83\n",
      "Invalid category_id: 83\n"
     ]
    },
    {
     "name": "stderr",
     "output_type": "stream",
     "text": [
      " 79%|███████▉  | 1577/2000 [03:21<00:57,  7.36it/s]"
     ]
    },
    {
     "name": "stdout",
     "output_type": "stream",
     "text": [
      "Invalid category_id: 81\n",
      "Invalid category_id: 81\n"
     ]
    },
    {
     "name": "stderr",
     "output_type": "stream",
     "text": [
      " 79%|███████▉  | 1583/2000 [03:22<00:52,  7.89it/s]"
     ]
    },
    {
     "name": "stdout",
     "output_type": "stream",
     "text": [
      "Invalid category_id: 80\n"
     ]
    },
    {
     "name": "stderr",
     "output_type": "stream",
     "text": [
      " 79%|███████▉  | 1585/2000 [03:22<00:50,  8.21it/s]"
     ]
    },
    {
     "name": "stdout",
     "output_type": "stream",
     "text": [
      "Invalid category_id: 80\n"
     ]
    },
    {
     "name": "stderr",
     "output_type": "stream",
     "text": [
      " 81%|████████  | 1618/2000 [03:26<00:47,  8.10it/s]"
     ]
    },
    {
     "name": "stdout",
     "output_type": "stream",
     "text": [
      "Invalid category_id: 84\n"
     ]
    },
    {
     "name": "stderr",
     "output_type": "stream",
     "text": [
      " 81%|████████  | 1620/2000 [03:26<00:45,  8.26it/s]"
     ]
    },
    {
     "name": "stdout",
     "output_type": "stream",
     "text": [
      "Invalid category_id: 83\n",
      "Invalid category_id: 84\n"
     ]
    },
    {
     "name": "stderr",
     "output_type": "stream",
     "text": [
      " 81%|████████  | 1623/2000 [03:27<00:43,  8.58it/s]"
     ]
    },
    {
     "name": "stdout",
     "output_type": "stream",
     "text": [
      "Invalid category_id: 83\n",
      "Invalid category_id: 83\n",
      "Invalid category_id: 83\n",
      "Invalid category_id: 83\n",
      "Invalid category_id: 83\n",
      "Invalid category_id: 83\n",
      "Invalid category_id: 83\n"
     ]
    },
    {
     "name": "stderr",
     "output_type": "stream",
     "text": [
      " 81%|████████▏ | 1628/2000 [03:27<00:41,  8.93it/s]"
     ]
    },
    {
     "name": "stdout",
     "output_type": "stream",
     "text": [
      "Invalid category_id: 85\n",
      "Invalid category_id: 83\n",
      "Invalid category_id: 83\n",
      "Invalid category_id: 83\n",
      "Invalid category_id: 83\n",
      "Invalid category_id: 83\n"
     ]
    },
    {
     "name": "stderr",
     "output_type": "stream",
     "text": [
      " 82%|████████▏ | 1633/2000 [03:28<00:44,  8.20it/s]"
     ]
    },
    {
     "name": "stdout",
     "output_type": "stream",
     "text": [
      "Invalid category_id: 83\n",
      "Invalid category_id: 85\n",
      "Invalid category_id: 83\n",
      "Invalid category_id: 81\n",
      "Invalid category_id: 80\n"
     ]
    },
    {
     "name": "stderr",
     "output_type": "stream",
     "text": [
      " 84%|████████▎ | 1672/2000 [03:33<00:40,  8.06it/s]"
     ]
    },
    {
     "name": "stdout",
     "output_type": "stream",
     "text": [
      "Invalid category_id: 87\n"
     ]
    },
    {
     "name": "stderr",
     "output_type": "stream",
     "text": [
      " 84%|████████▎ | 1674/2000 [03:33<00:42,  7.74it/s]"
     ]
    },
    {
     "name": "stdout",
     "output_type": "stream",
     "text": [
      "Invalid category_id: 86\n"
     ]
    },
    {
     "name": "stderr",
     "output_type": "stream",
     "text": [
      " 84%|████████▍ | 1676/2000 [03:33<00:41,  7.87it/s]"
     ]
    },
    {
     "name": "stdout",
     "output_type": "stream",
     "text": [
      "Invalid category_id: 84\n",
      "Invalid category_id: 84\n",
      "Invalid category_id: 85\n"
     ]
    },
    {
     "name": "stderr",
     "output_type": "stream",
     "text": [
      " 84%|████████▍ | 1679/2000 [03:33<00:36,  8.78it/s]"
     ]
    },
    {
     "name": "stdout",
     "output_type": "stream",
     "text": [
      "Invalid category_id: 81\n",
      "Invalid category_id: 81\n",
      "Invalid category_id: 85\n"
     ]
    },
    {
     "name": "stderr",
     "output_type": "stream",
     "text": [
      " 85%|████████▌ | 1703/2000 [03:36<00:35,  8.43it/s]"
     ]
    },
    {
     "name": "stdout",
     "output_type": "stream",
     "text": [
      "Invalid category_id: 87\n",
      "Invalid category_id: 87\n",
      "Invalid category_id: 87\n"
     ]
    },
    {
     "name": "stderr",
     "output_type": "stream",
     "text": [
      " 85%|████████▌ | 1705/2000 [03:37<00:33,  8.93it/s]"
     ]
    },
    {
     "name": "stdout",
     "output_type": "stream",
     "text": [
      "Invalid category_id: 83\n",
      "Invalid category_id: 83\n",
      "Invalid category_id: 83\n",
      "Invalid category_id: 83\n",
      "Invalid category_id: 83\n"
     ]
    },
    {
     "name": "stderr",
     "output_type": "stream",
     "text": [
      " 86%|████████▌ | 1712/2000 [03:37<00:36,  7.82it/s]"
     ]
    },
    {
     "name": "stdout",
     "output_type": "stream",
     "text": [
      "Invalid category_id: 83\n",
      "Invalid category_id: 83\n"
     ]
    },
    {
     "name": "stderr",
     "output_type": "stream",
     "text": [
      " 86%|████████▌ | 1722/2000 [03:39<00:33,  8.28it/s]"
     ]
    },
    {
     "name": "stdout",
     "output_type": "stream",
     "text": [
      "Invalid category_id: 83\n"
     ]
    },
    {
     "name": "stderr",
     "output_type": "stream",
     "text": [
      " 86%|████████▋ | 1727/2000 [03:39<00:31,  8.54it/s]"
     ]
    },
    {
     "name": "stdout",
     "output_type": "stream",
     "text": [
      "Invalid category_id: 83\n",
      "Invalid category_id: 85\n"
     ]
    },
    {
     "name": "stderr",
     "output_type": "stream",
     "text": [
      " 87%|████████▋ | 1732/2000 [03:40<00:34,  7.72it/s]"
     ]
    },
    {
     "name": "stdout",
     "output_type": "stream",
     "text": [
      "Invalid category_id: 83\n",
      "Invalid category_id: 83\n",
      "Invalid category_id: 87\n",
      "Invalid category_id: 87\n",
      "Invalid category_id: 87\n",
      "Invalid category_id: 87\n",
      "Invalid category_id: 87\n",
      "Invalid category_id: 87\n"
     ]
    },
    {
     "name": "stderr",
     "output_type": "stream",
     "text": [
      " 87%|████████▋ | 1734/2000 [03:40<00:35,  7.58it/s]"
     ]
    },
    {
     "name": "stdout",
     "output_type": "stream",
     "text": [
      "Invalid category_id: 84\n"
     ]
    },
    {
     "name": "stderr",
     "output_type": "stream",
     "text": [
      " 87%|████████▋ | 1736/2000 [03:40<00:32,  8.25it/s]"
     ]
    },
    {
     "name": "stdout",
     "output_type": "stream",
     "text": [
      "Invalid category_id: 80\n",
      "Invalid category_id: 85\n",
      "Invalid category_id: 85\n"
     ]
    },
    {
     "name": "stderr",
     "output_type": "stream",
     "text": [
      " 87%|████████▋ | 1737/2000 [03:40<00:32,  8.05it/s]"
     ]
    },
    {
     "name": "stdout",
     "output_type": "stream",
     "text": [
      "Invalid category_id: 81\n",
      "Invalid category_id: 80\n"
     ]
    },
    {
     "name": "stderr",
     "output_type": "stream",
     "text": [
      " 88%|████████▊ | 1762/2000 [03:44<00:31,  7.52it/s]"
     ]
    },
    {
     "name": "stdout",
     "output_type": "stream",
     "text": [
      "Invalid category_id: 83\n"
     ]
    },
    {
     "name": "stderr",
     "output_type": "stream",
     "text": [
      " 88%|████████▊ | 1767/2000 [03:44<00:29,  7.86it/s]"
     ]
    },
    {
     "name": "stdout",
     "output_type": "stream",
     "text": [
      "Invalid category_id: 84\n"
     ]
    },
    {
     "name": "stderr",
     "output_type": "stream",
     "text": [
      " 89%|████████▊ | 1771/2000 [03:45<00:29,  7.71it/s]"
     ]
    },
    {
     "name": "stdout",
     "output_type": "stream",
     "text": [
      "Invalid category_id: 81\n",
      "Invalid category_id: 81\n",
      "Invalid category_id: 81\n",
      "Invalid category_id: 81\n",
      "Invalid category_id: 81\n",
      "Invalid category_id: 81\n",
      "Invalid category_id: 81\n",
      "Invalid category_id: 81\n",
      "Invalid category_id: 81\n",
      "Invalid category_id: 81\n"
     ]
    },
    {
     "name": "stderr",
     "output_type": "stream",
     "text": [
      " 89%|████████▊ | 1773/2000 [03:45<00:29,  7.71it/s]"
     ]
    },
    {
     "name": "stdout",
     "output_type": "stream",
     "text": [
      "Invalid category_id: 84\n"
     ]
    },
    {
     "name": "stderr",
     "output_type": "stream",
     "text": [
      " 90%|████████▉ | 1793/2000 [03:48<00:28,  7.15it/s]"
     ]
    },
    {
     "name": "stdout",
     "output_type": "stream",
     "text": [
      "Invalid category_id: 83\n"
     ]
    },
    {
     "name": "stderr",
     "output_type": "stream",
     "text": [
      " 90%|█████████ | 1808/2000 [03:50<00:24,  7.91it/s]"
     ]
    },
    {
     "name": "stdout",
     "output_type": "stream",
     "text": [
      "Invalid category_id: 83\n",
      "Invalid category_id: 84\n"
     ]
    },
    {
     "name": "stderr",
     "output_type": "stream",
     "text": [
      " 91%|█████████ | 1815/2000 [03:50<00:24,  7.53it/s]"
     ]
    },
    {
     "name": "stdout",
     "output_type": "stream",
     "text": [
      "Invalid category_id: 85\n",
      "Invalid category_id: 84\n",
      "Invalid category_id: 83\n"
     ]
    },
    {
     "name": "stderr",
     "output_type": "stream",
     "text": [
      " 91%|█████████ | 1817/2000 [03:51<00:24,  7.51it/s]"
     ]
    },
    {
     "name": "stdout",
     "output_type": "stream",
     "text": [
      "Invalid category_id: 84\n",
      "Invalid category_id: 84\n"
     ]
    },
    {
     "name": "stderr",
     "output_type": "stream",
     "text": [
      " 91%|█████████ | 1821/2000 [03:51<00:21,  8.41it/s]"
     ]
    },
    {
     "name": "stdout",
     "output_type": "stream",
     "text": [
      "Invalid category_id: 87\n",
      "Invalid category_id: 87\n",
      "Invalid category_id: 85\n",
      "Invalid category_id: 87\n"
     ]
    },
    {
     "name": "stderr",
     "output_type": "stream",
     "text": [
      " 91%|█████████ | 1823/2000 [03:51<00:21,  8.35it/s]"
     ]
    },
    {
     "name": "stdout",
     "output_type": "stream",
     "text": [
      "Invalid category_id: 81\n",
      "Invalid category_id: 81\n"
     ]
    },
    {
     "name": "stderr",
     "output_type": "stream",
     "text": [
      " 91%|█████████▏| 1825/2000 [03:52<00:21,  8.03it/s]"
     ]
    },
    {
     "name": "stdout",
     "output_type": "stream",
     "text": [
      "Invalid category_id: 84\n",
      "Invalid category_id: 84\n"
     ]
    },
    {
     "name": "stderr",
     "output_type": "stream",
     "text": [
      " 91%|█████████▏| 1829/2000 [03:52<00:20,  8.31it/s]"
     ]
    },
    {
     "name": "stdout",
     "output_type": "stream",
     "text": [
      "Invalid category_id: 84\n"
     ]
    },
    {
     "name": "stderr",
     "output_type": "stream",
     "text": [
      " 92%|█████████▏| 1832/2000 [03:53<00:21,  7.64it/s]"
     ]
    },
    {
     "name": "stdout",
     "output_type": "stream",
     "text": [
      "Invalid category_id: 84\n"
     ]
    },
    {
     "name": "stderr",
     "output_type": "stream",
     "text": [
      " 92%|█████████▏| 1834/2000 [03:53<00:21,  7.62it/s]"
     ]
    },
    {
     "name": "stdout",
     "output_type": "stream",
     "text": [
      "Invalid category_id: 83\n",
      "Invalid category_id: 83\n",
      "Invalid category_id: 83\n",
      "Invalid category_id: 83\n",
      "Invalid category_id: 83\n",
      "Invalid category_id: 83\n",
      "Invalid category_id: 83\n",
      "Invalid category_id: 83\n",
      "Invalid category_id: 83\n",
      "Invalid category_id: 83\n",
      "Invalid category_id: 83\n",
      "Invalid category_id: 83\n"
     ]
    },
    {
     "name": "stderr",
     "output_type": "stream",
     "text": [
      " 92%|█████████▏| 1843/2000 [03:54<00:21,  7.29it/s]"
     ]
    },
    {
     "name": "stdout",
     "output_type": "stream",
     "text": [
      "Invalid category_id: 87\n",
      "Invalid category_id: 87\n",
      "Invalid category_id: 87\n",
      "Invalid category_id: 87\n",
      "Invalid category_id: 87\n",
      "Invalid category_id: 87\n"
     ]
    },
    {
     "name": "stderr",
     "output_type": "stream",
     "text": [
      " 92%|█████████▏| 1846/2000 [03:55<00:23,  6.52it/s]"
     ]
    },
    {
     "name": "stdout",
     "output_type": "stream",
     "text": [
      "Invalid category_id: 83\n"
     ]
    },
    {
     "name": "stderr",
     "output_type": "stream",
     "text": [
      " 93%|█████████▎| 1863/2000 [03:57<00:17,  7.76it/s]"
     ]
    },
    {
     "name": "stdout",
     "output_type": "stream",
     "text": [
      "Invalid category_id: 87\n",
      "Invalid category_id: 84\n"
     ]
    },
    {
     "name": "stderr",
     "output_type": "stream",
     "text": [
      " 93%|█████████▎| 1865/2000 [03:57<00:17,  7.81it/s]"
     ]
    },
    {
     "name": "stdout",
     "output_type": "stream",
     "text": [
      "Invalid category_id: 85\n"
     ]
    },
    {
     "name": "stderr",
     "output_type": "stream",
     "text": [
      " 93%|█████████▎| 1867/2000 [03:57<00:17,  7.76it/s]"
     ]
    },
    {
     "name": "stdout",
     "output_type": "stream",
     "text": [
      "Invalid category_id: 80\n"
     ]
    },
    {
     "name": "stderr",
     "output_type": "stream",
     "text": [
      " 94%|█████████▎| 1872/2000 [03:58<00:17,  7.52it/s]"
     ]
    },
    {
     "name": "stdout",
     "output_type": "stream",
     "text": [
      "Invalid category_id: 80\n",
      "Invalid category_id: 80\n"
     ]
    },
    {
     "name": "stderr",
     "output_type": "stream",
     "text": [
      " 94%|█████████▍| 1876/2000 [03:58<00:15,  7.91it/s]"
     ]
    },
    {
     "name": "stdout",
     "output_type": "stream",
     "text": [
      "Invalid category_id: 83\n"
     ]
    },
    {
     "name": "stderr",
     "output_type": "stream",
     "text": [
      " 95%|█████████▍| 1896/2000 [04:01<00:13,  7.54it/s]"
     ]
    },
    {
     "name": "stdout",
     "output_type": "stream",
     "text": [
      "Invalid category_id: 84\n",
      "Invalid category_id: 85\n"
     ]
    },
    {
     "name": "stderr",
     "output_type": "stream",
     "text": [
      " 95%|█████████▍| 1899/2000 [04:02<00:12,  7.90it/s]"
     ]
    },
    {
     "name": "stdout",
     "output_type": "stream",
     "text": [
      "Invalid category_id: 81\n"
     ]
    },
    {
     "name": "stderr",
     "output_type": "stream",
     "text": [
      " 95%|█████████▌| 1903/2000 [04:02<00:13,  7.32it/s]"
     ]
    },
    {
     "name": "stdout",
     "output_type": "stream",
     "text": [
      "Invalid category_id: 83\n",
      "Invalid category_id: 83\n",
      "Invalid category_id: 83\n",
      "Invalid category_id: 83\n",
      "Invalid category_id: 83\n",
      "Invalid category_id: 83\n",
      "Invalid category_id: 83\n",
      "Invalid category_id: 83\n",
      "Invalid category_id: 83\n",
      "Invalid category_id: 83\n",
      "Invalid category_id: 83\n",
      "Invalid category_id: 83\n",
      "Invalid category_id: 83\n",
      "Invalid category_id: 83\n",
      "Invalid category_id: 83\n"
     ]
    },
    {
     "name": "stderr",
     "output_type": "stream",
     "text": [
      " 95%|█████████▌| 1908/2000 [04:03<00:10,  8.42it/s]"
     ]
    },
    {
     "name": "stdout",
     "output_type": "stream",
     "text": [
      "Invalid category_id: 81\n",
      "Invalid category_id: 81\n"
     ]
    },
    {
     "name": "stderr",
     "output_type": "stream",
     "text": [
      " 96%|█████████▌| 1910/2000 [04:03<00:12,  7.35it/s]"
     ]
    },
    {
     "name": "stdout",
     "output_type": "stream",
     "text": [
      "Invalid category_id: 84\n",
      "Invalid category_id: 84\n",
      "Invalid category_id: 84\n"
     ]
    },
    {
     "name": "stderr",
     "output_type": "stream",
     "text": [
      " 96%|█████████▌| 1912/2000 [04:03<00:11,  7.75it/s]"
     ]
    },
    {
     "name": "stdout",
     "output_type": "stream",
     "text": [
      "Invalid category_id: 85\n",
      "Invalid category_id: 85\n",
      "Invalid category_id: 86\n"
     ]
    },
    {
     "name": "stderr",
     "output_type": "stream",
     "text": [
      " 96%|█████████▌| 1916/2000 [04:04<00:10,  8.17it/s]"
     ]
    },
    {
     "name": "stdout",
     "output_type": "stream",
     "text": [
      "Invalid category_id: 80\n"
     ]
    },
    {
     "name": "stderr",
     "output_type": "stream",
     "text": [
      " 96%|█████████▌| 1919/2000 [04:04<00:09,  8.32it/s]"
     ]
    },
    {
     "name": "stdout",
     "output_type": "stream",
     "text": [
      "Invalid category_id: 80\n"
     ]
    },
    {
     "name": "stderr",
     "output_type": "stream",
     "text": [
      " 98%|█████████▊| 1962/2000 [04:10<00:04,  8.17it/s]"
     ]
    },
    {
     "name": "stdout",
     "output_type": "stream",
     "text": [
      "Invalid category_id: 83\n"
     ]
    },
    {
     "name": "stderr",
     "output_type": "stream",
     "text": [
      " 98%|█████████▊| 1967/2000 [04:10<00:04,  8.03it/s]"
     ]
    },
    {
     "name": "stdout",
     "output_type": "stream",
     "text": [
      "Invalid category_id: 87\n",
      "Invalid category_id: 86\n"
     ]
    },
    {
     "name": "stderr",
     "output_type": "stream",
     "text": [
      " 98%|█████████▊| 1970/2000 [04:11<00:03,  8.40it/s]"
     ]
    },
    {
     "name": "stdout",
     "output_type": "stream",
     "text": [
      "Invalid category_id: 85\n",
      "Invalid category_id: 85\n",
      "Invalid category_id: 85\n",
      "Invalid category_id: 85\n"
     ]
    },
    {
     "name": "stderr",
     "output_type": "stream",
     "text": [
      " 99%|█████████▊| 1974/2000 [04:11<00:03,  7.37it/s]"
     ]
    },
    {
     "name": "stdout",
     "output_type": "stream",
     "text": [
      "Invalid category_id: 83\n"
     ]
    },
    {
     "name": "stderr",
     "output_type": "stream",
     "text": [
      " 99%|█████████▉| 1987/2000 [04:13<00:01,  8.35it/s]"
     ]
    },
    {
     "name": "stdout",
     "output_type": "stream",
     "text": [
      "Invalid category_id: 83\n"
     ]
    },
    {
     "name": "stderr",
     "output_type": "stream",
     "text": [
      "100%|█████████▉| 1998/2000 [04:14<00:00,  6.97it/s]"
     ]
    },
    {
     "name": "stdout",
     "output_type": "stream",
     "text": [
      "Invalid category_id: 83\n",
      "Invalid category_id: 85\n"
     ]
    },
    {
     "name": "stderr",
     "output_type": "stream",
     "text": [
      "100%|██████████| 2000/2000 [04:15<00:00,  7.84it/s]\n"
     ]
    }
   ],
   "source": [
    "preprocess_images(bucket_name, 'images', 'annotations/subset_annotations.json')"
   ]
  },
  {
   "cell_type": "code",
   "execution_count": null,
   "id": "5a7343eb-bcfd-4692-8b79-6fd269b88af2",
   "metadata": {},
   "outputs": [],
   "source": []
  }
 ],
 "metadata": {
  "kernelspec": {
   "display_name": "Python 3 (ipykernel)",
   "language": "python",
   "name": "python3"
  },
  "language_info": {
   "codemirror_mode": {
    "name": "ipython",
    "version": 3
   },
   "file_extension": ".py",
   "mimetype": "text/x-python",
   "name": "python",
   "nbconvert_exporter": "python",
   "pygments_lexer": "ipython3",
   "version": "3.11.9"
  }
 },
 "nbformat": 4,
 "nbformat_minor": 5
}
